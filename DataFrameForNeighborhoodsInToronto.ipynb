{
 "metadata": {
  "language_info": {
   "codemirror_mode": {
    "name": "ipython",
    "version": 3
   },
   "file_extension": ".py",
   "mimetype": "text/x-python",
   "name": "python",
   "nbconvert_exporter": "python",
   "pygments_lexer": "ipython3",
   "version": 3
  },
  "orig_nbformat": 2,
  "kernelspec": {
   "name": "python_defaultSpec_1596758922585",
   "display_name": "Python 3.7.6 64-bit ('base': conda)"
  }
 },
 "nbformat": 4,
 "nbformat_minor": 2,
 "cells": [
  {
   "cell_type": "markdown",
   "metadata": {},
   "source": [
    "<h1 align=center><font size = 5>Data Frame For Neighborhoods in Toronto</font></h1>"
   ]
  },
  {
   "cell_type": "markdown",
   "metadata": {},
   "source": [
    "# 1. Cleanning the Dataframe"
   ]
  },
  {
   "cell_type": "code",
   "execution_count": 1,
   "metadata": {},
   "outputs": [],
   "source": [
    "import pandas as pd\n",
    "import requests\n",
    "from IPython.display import display_html"
   ]
  },
  {
   "cell_type": "code",
   "execution_count": 2,
   "metadata": {
    "tags": []
   },
   "outputs": [
    {
     "output_type": "execute_result",
     "data": {
      "text/plain": "  Postal Code           Borough              Neighbourhood\n0         M1A      Not assigned               Not assigned\n1         M2A      Not assigned               Not assigned\n2         M3A        North York                  Parkwoods\n3         M4A        North York           Victoria Village\n4         M5A  Downtown Toronto  Regent Park, Harbourfront",
      "text/html": "<div>\n<style scoped>\n    .dataframe tbody tr th:only-of-type {\n        vertical-align: middle;\n    }\n\n    .dataframe tbody tr th {\n        vertical-align: top;\n    }\n\n    .dataframe thead th {\n        text-align: right;\n    }\n</style>\n<table border=\"1\" class=\"dataframe\">\n  <thead>\n    <tr style=\"text-align: right;\">\n      <th></th>\n      <th>Postal Code</th>\n      <th>Borough</th>\n      <th>Neighbourhood</th>\n    </tr>\n  </thead>\n  <tbody>\n    <tr>\n      <th>0</th>\n      <td>M1A</td>\n      <td>Not assigned</td>\n      <td>Not assigned</td>\n    </tr>\n    <tr>\n      <th>1</th>\n      <td>M2A</td>\n      <td>Not assigned</td>\n      <td>Not assigned</td>\n    </tr>\n    <tr>\n      <th>2</th>\n      <td>M3A</td>\n      <td>North York</td>\n      <td>Parkwoods</td>\n    </tr>\n    <tr>\n      <th>3</th>\n      <td>M4A</td>\n      <td>North York</td>\n      <td>Victoria Village</td>\n    </tr>\n    <tr>\n      <th>4</th>\n      <td>M5A</td>\n      <td>Downtown Toronto</td>\n      <td>Regent Park, Harbourfront</td>\n    </tr>\n  </tbody>\n</table>\n</div>"
     },
     "metadata": {},
     "execution_count": 2
    }
   ],
   "source": [
    "#Parsing HTML by Pandas\n",
    "url ='https://en.wikipedia.org/wiki/List_of_postal_codes_of_Canada:_M'\n",
    "res = requests.get(url)\n",
    "\n",
    "dfs = pd.read_html(res.text)\n",
    "df = dfs[0]\n",
    "df.head()\n",
    "\n"
   ]
  },
  {
   "cell_type": "code",
   "execution_count": 3,
   "metadata": {},
   "outputs": [
    {
     "output_type": "execute_result",
     "data": {
      "text/plain": "  Postal Code           Borough                                Neighbourhood\n0         M3A        North York                                    Parkwoods\n1         M4A        North York                             Victoria Village\n2         M5A  Downtown Toronto                    Regent Park, Harbourfront\n3         M6A        North York             Lawrence Manor, Lawrence Heights\n4         M7A  Downtown Toronto  Queen's Park, Ontario Provincial Government",
      "text/html": "<div>\n<style scoped>\n    .dataframe tbody tr th:only-of-type {\n        vertical-align: middle;\n    }\n\n    .dataframe tbody tr th {\n        vertical-align: top;\n    }\n\n    .dataframe thead th {\n        text-align: right;\n    }\n</style>\n<table border=\"1\" class=\"dataframe\">\n  <thead>\n    <tr style=\"text-align: right;\">\n      <th></th>\n      <th>Postal Code</th>\n      <th>Borough</th>\n      <th>Neighbourhood</th>\n    </tr>\n  </thead>\n  <tbody>\n    <tr>\n      <th>0</th>\n      <td>M3A</td>\n      <td>North York</td>\n      <td>Parkwoods</td>\n    </tr>\n    <tr>\n      <th>1</th>\n      <td>M4A</td>\n      <td>North York</td>\n      <td>Victoria Village</td>\n    </tr>\n    <tr>\n      <th>2</th>\n      <td>M5A</td>\n      <td>Downtown Toronto</td>\n      <td>Regent Park, Harbourfront</td>\n    </tr>\n    <tr>\n      <th>3</th>\n      <td>M6A</td>\n      <td>North York</td>\n      <td>Lawrence Manor, Lawrence Heights</td>\n    </tr>\n    <tr>\n      <th>4</th>\n      <td>M7A</td>\n      <td>Downtown Toronto</td>\n      <td>Queen's Park, Ontario Provincial Government</td>\n    </tr>\n  </tbody>\n</table>\n</div>"
     },
     "metadata": {},
     "execution_count": 3
    }
   ],
   "source": [
    "#drop cells with a borough that is Not assigned.\n",
    "df = df[df.Borough != 'Not assigned']\n",
    "df.reset_index(drop = True, inplace=True)\n",
    "df.head()"
   ]
  },
  {
   "cell_type": "code",
   "execution_count": 4,
   "metadata": {},
   "outputs": [
    {
     "output_type": "execute_result",
     "data": {
      "text/plain": "  Postal Code           Borough                                Neighbourhood\n0         M3A        North York                                    Parkwoods\n1         M4A        North York                             Victoria Village\n2         M5A  Downtown Toronto                    Regent Park, Harbourfront\n3         M6A        North York             Lawrence Manor, Lawrence Heights\n4         M7A  Downtown Toronto  Queen's Park, Ontario Provincial Government",
      "text/html": "<div>\n<style scoped>\n    .dataframe tbody tr th:only-of-type {\n        vertical-align: middle;\n    }\n\n    .dataframe tbody tr th {\n        vertical-align: top;\n    }\n\n    .dataframe thead th {\n        text-align: right;\n    }\n</style>\n<table border=\"1\" class=\"dataframe\">\n  <thead>\n    <tr style=\"text-align: right;\">\n      <th></th>\n      <th>Postal Code</th>\n      <th>Borough</th>\n      <th>Neighbourhood</th>\n    </tr>\n  </thead>\n  <tbody>\n    <tr>\n      <th>0</th>\n      <td>M3A</td>\n      <td>North York</td>\n      <td>Parkwoods</td>\n    </tr>\n    <tr>\n      <th>1</th>\n      <td>M4A</td>\n      <td>North York</td>\n      <td>Victoria Village</td>\n    </tr>\n    <tr>\n      <th>2</th>\n      <td>M5A</td>\n      <td>Downtown Toronto</td>\n      <td>Regent Park, Harbourfront</td>\n    </tr>\n    <tr>\n      <th>3</th>\n      <td>M6A</td>\n      <td>North York</td>\n      <td>Lawrence Manor, Lawrence Heights</td>\n    </tr>\n    <tr>\n      <th>4</th>\n      <td>M7A</td>\n      <td>Downtown Toronto</td>\n      <td>Queen's Park, Ontario Provincial Government</td>\n    </tr>\n  </tbody>\n</table>\n</div>"
     },
     "metadata": {},
     "execution_count": 4
    }
   ],
   "source": [
    "# combine neibourhood with a same postal code\n",
    "df.groupby(['Postal Code'])['Neighbourhood'].apply(','.join).reset_index()\n",
    "df.head()\n",
    "\n"
   ]
  },
  {
   "cell_type": "code",
   "execution_count": 5,
   "metadata": {},
   "outputs": [
    {
     "output_type": "execute_result",
     "data": {
      "text/plain": "  Postal Code           Borough                                Neighbourhood\n0         M3A        North York                                    Parkwoods\n1         M4A        North York                             Victoria Village\n2         M5A  Downtown Toronto                    Regent Park, Harbourfront\n3         M6A        North York             Lawrence Manor, Lawrence Heights\n4         M7A  Downtown Toronto  Queen's Park, Ontario Provincial Government",
      "text/html": "<div>\n<style scoped>\n    .dataframe tbody tr th:only-of-type {\n        vertical-align: middle;\n    }\n\n    .dataframe tbody tr th {\n        vertical-align: top;\n    }\n\n    .dataframe thead th {\n        text-align: right;\n    }\n</style>\n<table border=\"1\" class=\"dataframe\">\n  <thead>\n    <tr style=\"text-align: right;\">\n      <th></th>\n      <th>Postal Code</th>\n      <th>Borough</th>\n      <th>Neighbourhood</th>\n    </tr>\n  </thead>\n  <tbody>\n    <tr>\n      <th>0</th>\n      <td>M3A</td>\n      <td>North York</td>\n      <td>Parkwoods</td>\n    </tr>\n    <tr>\n      <th>1</th>\n      <td>M4A</td>\n      <td>North York</td>\n      <td>Victoria Village</td>\n    </tr>\n    <tr>\n      <th>2</th>\n      <td>M5A</td>\n      <td>Downtown Toronto</td>\n      <td>Regent Park, Harbourfront</td>\n    </tr>\n    <tr>\n      <th>3</th>\n      <td>M6A</td>\n      <td>North York</td>\n      <td>Lawrence Manor, Lawrence Heights</td>\n    </tr>\n    <tr>\n      <th>4</th>\n      <td>M7A</td>\n      <td>Downtown Toronto</td>\n      <td>Queen's Park, Ontario Provincial Government</td>\n    </tr>\n  </tbody>\n</table>\n</div>"
     },
     "metadata": {},
     "execution_count": 5
    }
   ],
   "source": [
    "df['Neighbourhood']=df['Neighbourhood'].replace('Not assigned', df['Borough'])\n",
    "df.head()"
   ]
  },
  {
   "cell_type": "code",
   "execution_count": 6,
   "metadata": {
    "tags": []
   },
   "outputs": [
    {
     "output_type": "stream",
     "name": "stdout",
     "text": "There are 103 rows after cleaning the dataframe\n"
    }
   ],
   "source": [
    "print(f'There are {df.shape[0]} rows after cleaning the dataframe')"
   ]
  },
  {
   "cell_type": "markdown",
   "metadata": {},
   "source": [
    "# 2. Creating Dataframe by Querying Foursquare Location Data"
   ]
  },
  {
   "cell_type": "code",
   "execution_count": 7,
   "metadata": {
    "tags": []
   },
   "outputs": [
    {
     "output_type": "execute_result",
     "data": {
      "text/plain": "    Postal Code           Borough  \\\n0           M3A        North York   \n1           M4A        North York   \n2           M5A  Downtown Toronto   \n3           M6A        North York   \n4           M7A  Downtown Toronto   \n..          ...               ...   \n98          M8X         Etobicoke   \n99          M4Y  Downtown Toronto   \n100         M7Y      East Toronto   \n101         M8Y         Etobicoke   \n102         M8Z         Etobicoke   \n\n                                         Neighbourhood   Latitude  Longitude  \n0                                            Parkwoods  43.753259 -79.329656  \n1                                     Victoria Village  43.725882 -79.315572  \n2                            Regent Park, Harbourfront  43.654260 -79.360636  \n3                     Lawrence Manor, Lawrence Heights  43.718518 -79.464763  \n4          Queen's Park, Ontario Provincial Government  43.662301 -79.389494  \n..                                                 ...        ...        ...  \n98       The Kingsway, Montgomery Road, Old Mill North  43.653654 -79.506944  \n99                                Church and Wellesley  43.665860 -79.383160  \n100  Business reply mail Processing Centre, South C...  43.662744 -79.321558  \n101  Old Mill South, King's Mill Park, Sunnylea, Hu...  43.636258 -79.498509  \n102  Mimico NW, The Queensway West, South of Bloor,...  43.628841 -79.520999  \n\n[103 rows x 5 columns]",
      "text/html": "<div>\n<style scoped>\n    .dataframe tbody tr th:only-of-type {\n        vertical-align: middle;\n    }\n\n    .dataframe tbody tr th {\n        vertical-align: top;\n    }\n\n    .dataframe thead th {\n        text-align: right;\n    }\n</style>\n<table border=\"1\" class=\"dataframe\">\n  <thead>\n    <tr style=\"text-align: right;\">\n      <th></th>\n      <th>Postal Code</th>\n      <th>Borough</th>\n      <th>Neighbourhood</th>\n      <th>Latitude</th>\n      <th>Longitude</th>\n    </tr>\n  </thead>\n  <tbody>\n    <tr>\n      <th>0</th>\n      <td>M3A</td>\n      <td>North York</td>\n      <td>Parkwoods</td>\n      <td>43.753259</td>\n      <td>-79.329656</td>\n    </tr>\n    <tr>\n      <th>1</th>\n      <td>M4A</td>\n      <td>North York</td>\n      <td>Victoria Village</td>\n      <td>43.725882</td>\n      <td>-79.315572</td>\n    </tr>\n    <tr>\n      <th>2</th>\n      <td>M5A</td>\n      <td>Downtown Toronto</td>\n      <td>Regent Park, Harbourfront</td>\n      <td>43.654260</td>\n      <td>-79.360636</td>\n    </tr>\n    <tr>\n      <th>3</th>\n      <td>M6A</td>\n      <td>North York</td>\n      <td>Lawrence Manor, Lawrence Heights</td>\n      <td>43.718518</td>\n      <td>-79.464763</td>\n    </tr>\n    <tr>\n      <th>4</th>\n      <td>M7A</td>\n      <td>Downtown Toronto</td>\n      <td>Queen's Park, Ontario Provincial Government</td>\n      <td>43.662301</td>\n      <td>-79.389494</td>\n    </tr>\n    <tr>\n      <th>...</th>\n      <td>...</td>\n      <td>...</td>\n      <td>...</td>\n      <td>...</td>\n      <td>...</td>\n    </tr>\n    <tr>\n      <th>98</th>\n      <td>M8X</td>\n      <td>Etobicoke</td>\n      <td>The Kingsway, Montgomery Road, Old Mill North</td>\n      <td>43.653654</td>\n      <td>-79.506944</td>\n    </tr>\n    <tr>\n      <th>99</th>\n      <td>M4Y</td>\n      <td>Downtown Toronto</td>\n      <td>Church and Wellesley</td>\n      <td>43.665860</td>\n      <td>-79.383160</td>\n    </tr>\n    <tr>\n      <th>100</th>\n      <td>M7Y</td>\n      <td>East Toronto</td>\n      <td>Business reply mail Processing Centre, South C...</td>\n      <td>43.662744</td>\n      <td>-79.321558</td>\n    </tr>\n    <tr>\n      <th>101</th>\n      <td>M8Y</td>\n      <td>Etobicoke</td>\n      <td>Old Mill South, King's Mill Park, Sunnylea, Hu...</td>\n      <td>43.636258</td>\n      <td>-79.498509</td>\n    </tr>\n    <tr>\n      <th>102</th>\n      <td>M8Z</td>\n      <td>Etobicoke</td>\n      <td>Mimico NW, The Queensway West, South of Bloor,...</td>\n      <td>43.628841</td>\n      <td>-79.520999</td>\n    </tr>\n  </tbody>\n</table>\n<p>103 rows × 5 columns</p>\n</div>"
     },
     "metadata": {},
     "execution_count": 7
    }
   ],
   "source": [
    "df1 = pd.read_csv('../Geospatial_Coordinates.csv')\n",
    "df_inner = pd.merge(df, df1, on='Postal Code', how='inner')\n",
    "df_inner\n"
   ]
  },
  {
   "cell_type": "markdown",
   "metadata": {},
   "source": [
    "# 3.Explore and cluster the neighborhoods in Toronto "
   ]
  },
  {
   "cell_type": "code",
   "execution_count": 8,
   "metadata": {},
   "outputs": [],
   "source": [
    "import numpy as np\n",
    "import json # library to handle JSON files\n",
    "import requests # library to handle requests\n",
    "from pandas.io.json import json_normalize # tranform JSON file into a pandas dataframe\n",
    "# Matplotlib and associated plotting modules\n",
    "import matplotlib.cm as cm\n",
    "import matplotlib.colors as colors\n",
    "# import k-means from clustering stage\n",
    "from sklearn.cluster import KMeans\n",
    "import folium # map rendering library\n",
    "from geopy.geocoders import Nominatim # convert an address into latitude and longitude values\n"
   ]
  },
  {
   "cell_type": "code",
   "execution_count": 9,
   "metadata": {},
   "outputs": [],
   "source": [
    "# @hidden_cell\n",
    "CLIENT_ID = 'UXWEDPWPTWEWH0YVOCWCCOTR11CTY25TK3OPNALHQMN2YFEN' # your Foursquare ID\n",
    "CLIENT_SECRET = 'D5Q2RYDAXAIGCI3O5SHQNZ4O15HJGQYXYFYAPXT3SB1P2VI4' # your Foursquare Secret\n",
    "VERSION = '20200806' # Foursquare API version\n",
    "LIMIT = 100\n"
   ]
  },
  {
   "cell_type": "code",
   "execution_count": 10,
   "metadata": {
    "tags": []
   },
   "outputs": [
    {
     "output_type": "execute_result",
     "data": {
      "text/plain": "  Postal Code           Borough                                Neighbourhood  \\\n0         M5A  Downtown Toronto                    Regent Park, Harbourfront   \n1         M7A  Downtown Toronto  Queen's Park, Ontario Provincial Government   \n2         M5B  Downtown Toronto                     Garden District, Ryerson   \n3         M5C  Downtown Toronto                               St. James Town   \n4         M4E      East Toronto                                  The Beaches   \n\n    Latitude  Longitude  \n0  43.654260 -79.360636  \n1  43.662301 -79.389494  \n2  43.657162 -79.378937  \n3  43.651494 -79.375418  \n4  43.676357 -79.293031  ",
      "text/html": "<div>\n<style scoped>\n    .dataframe tbody tr th:only-of-type {\n        vertical-align: middle;\n    }\n\n    .dataframe tbody tr th {\n        vertical-align: top;\n    }\n\n    .dataframe thead th {\n        text-align: right;\n    }\n</style>\n<table border=\"1\" class=\"dataframe\">\n  <thead>\n    <tr style=\"text-align: right;\">\n      <th></th>\n      <th>Postal Code</th>\n      <th>Borough</th>\n      <th>Neighbourhood</th>\n      <th>Latitude</th>\n      <th>Longitude</th>\n    </tr>\n  </thead>\n  <tbody>\n    <tr>\n      <th>0</th>\n      <td>M5A</td>\n      <td>Downtown Toronto</td>\n      <td>Regent Park, Harbourfront</td>\n      <td>43.654260</td>\n      <td>-79.360636</td>\n    </tr>\n    <tr>\n      <th>1</th>\n      <td>M7A</td>\n      <td>Downtown Toronto</td>\n      <td>Queen's Park, Ontario Provincial Government</td>\n      <td>43.662301</td>\n      <td>-79.389494</td>\n    </tr>\n    <tr>\n      <th>2</th>\n      <td>M5B</td>\n      <td>Downtown Toronto</td>\n      <td>Garden District, Ryerson</td>\n      <td>43.657162</td>\n      <td>-79.378937</td>\n    </tr>\n    <tr>\n      <th>3</th>\n      <td>M5C</td>\n      <td>Downtown Toronto</td>\n      <td>St. James Town</td>\n      <td>43.651494</td>\n      <td>-79.375418</td>\n    </tr>\n    <tr>\n      <th>4</th>\n      <td>M4E</td>\n      <td>East Toronto</td>\n      <td>The Beaches</td>\n      <td>43.676357</td>\n      <td>-79.293031</td>\n    </tr>\n  </tbody>\n</table>\n</div>"
     },
     "metadata": {},
     "execution_count": 10
    }
   ],
   "source": [
    "# select rows that contain Toronto in Borough column\n",
    "df_data = df_inner[df_inner['Borough'].str.contains('Toronto')]\n",
    "df_data.reset_index(inplace = True, drop=True)\n",
    "df_data.head()"
   ]
  },
  {
   "cell_type": "code",
   "execution_count": 11,
   "metadata": {},
   "outputs": [],
   "source": [
    "# define the function to query vanues through foursquare\n",
    "def getNearbyVenues(names, latitudes, longitudes, radius=500):\n",
    "    venues_list=[]\n",
    "    for name, lat, lng in zip(names, latitudes, longitudes):\n",
    "        print(name)\n",
    "            \n",
    "        # create the API request URL\n",
    "        url = 'https://api.foursquare.com/v2/venues/explore?&client_id={}&client_secret={}&v={}&ll={},{}&radius={}&limit={}'.format(\n",
    "            CLIENT_ID, \n",
    "            CLIENT_SECRET, \n",
    "            VERSION, \n",
    "            lat, \n",
    "            lng, \n",
    "            radius, \n",
    "            LIMIT)\n",
    "            \n",
    "        # make the GET request\n",
    "        results = requests.get(url).json()[\"response\"]['groups'][0]['items']\n",
    "        \n",
    "        # return only relevant information for each nearby venue\n",
    "        venues_list.append([(\n",
    "            name, \n",
    "            lat, \n",
    "            lng, \n",
    "            v['venue']['name'], \n",
    "            v['venue']['location']['lat'], \n",
    "            v['venue']['location']['lng'],  \n",
    "            v['venue']['categories'][0]['name']) for v in results])\n",
    "\n",
    "    nearby_venues = pd.DataFrame([item for venue_list in venues_list for item in venue_list])\n",
    "    nearby_venues.columns = ['Neighborhood', \n",
    "                  'Neighborhood Latitude', \n",
    "                  'Neighborhood Longitude', \n",
    "                  'Venue', \n",
    "                  'Venue Latitude', \n",
    "                  'Venue Longitude', \n",
    "                  'Venue Category']\n",
    "    \n",
    "    return(nearby_venues)\n"
   ]
  },
  {
   "cell_type": "code",
   "execution_count": 12,
   "metadata": {
    "tags": []
   },
   "outputs": [
    {
     "output_type": "stream",
     "name": "stdout",
     "text": "Downtown Toronto\nDowntown Toronto\nDowntown Toronto\nDowntown Toronto\nEast Toronto\nDowntown Toronto\nDowntown Toronto\nDowntown Toronto\nDowntown Toronto\nWest Toronto\nDowntown Toronto\nWest Toronto\nEast Toronto\nDowntown Toronto\nWest Toronto\nEast Toronto\nDowntown Toronto\nEast Toronto\nCentral Toronto\nCentral Toronto\nCentral Toronto\nCentral Toronto\nWest Toronto\nCentral Toronto\nCentral Toronto\nWest Toronto\nCentral Toronto\nDowntown Toronto\nWest Toronto\nCentral Toronto\nDowntown Toronto\nCentral Toronto\nDowntown Toronto\nDowntown Toronto\nDowntown Toronto\nDowntown Toronto\nDowntown Toronto\nDowntown Toronto\nEast Toronto\n"
    }
   ],
   "source": [
    "toronto_venues = getNearbyVenues(names=df_data['Borough'],\n",
    "                                   latitudes=df_data['Latitude'],\n",
    "                                   longitudes=df_data['Longitude']\n",
    "                                  )"
   ]
  },
  {
   "cell_type": "code",
   "execution_count": 13,
   "metadata": {
    "tags": []
   },
   "outputs": [
    {
     "output_type": "stream",
     "name": "stdout",
     "text": "(1627, 7)\n"
    },
    {
     "output_type": "execute_result",
     "data": {
      "text/plain": "       Neighborhood  Neighborhood Latitude  Neighborhood Longitude  \\\n0  Downtown Toronto               43.65426              -79.360636   \n1  Downtown Toronto               43.65426              -79.360636   \n2  Downtown Toronto               43.65426              -79.360636   \n3  Downtown Toronto               43.65426              -79.360636   \n4  Downtown Toronto               43.65426              -79.360636   \n\n                    Venue  Venue Latitude  Venue Longitude  \\\n0        Roselle Desserts       43.653447       -79.362017   \n1           Tandem Coffee       43.653559       -79.361809   \n2  Cooper Koo Family YMCA       43.653249       -79.358008   \n3     Body Blitz Spa East       43.654735       -79.359874   \n4          Impact Kitchen       43.656369       -79.356980   \n\n        Venue Category  \n0               Bakery  \n1          Coffee Shop  \n2  Distribution Center  \n3                  Spa  \n4           Restaurant  ",
      "text/html": "<div>\n<style scoped>\n    .dataframe tbody tr th:only-of-type {\n        vertical-align: middle;\n    }\n\n    .dataframe tbody tr th {\n        vertical-align: top;\n    }\n\n    .dataframe thead th {\n        text-align: right;\n    }\n</style>\n<table border=\"1\" class=\"dataframe\">\n  <thead>\n    <tr style=\"text-align: right;\">\n      <th></th>\n      <th>Neighborhood</th>\n      <th>Neighborhood Latitude</th>\n      <th>Neighborhood Longitude</th>\n      <th>Venue</th>\n      <th>Venue Latitude</th>\n      <th>Venue Longitude</th>\n      <th>Venue Category</th>\n    </tr>\n  </thead>\n  <tbody>\n    <tr>\n      <th>0</th>\n      <td>Downtown Toronto</td>\n      <td>43.65426</td>\n      <td>-79.360636</td>\n      <td>Roselle Desserts</td>\n      <td>43.653447</td>\n      <td>-79.362017</td>\n      <td>Bakery</td>\n    </tr>\n    <tr>\n      <th>1</th>\n      <td>Downtown Toronto</td>\n      <td>43.65426</td>\n      <td>-79.360636</td>\n      <td>Tandem Coffee</td>\n      <td>43.653559</td>\n      <td>-79.361809</td>\n      <td>Coffee Shop</td>\n    </tr>\n    <tr>\n      <th>2</th>\n      <td>Downtown Toronto</td>\n      <td>43.65426</td>\n      <td>-79.360636</td>\n      <td>Cooper Koo Family YMCA</td>\n      <td>43.653249</td>\n      <td>-79.358008</td>\n      <td>Distribution Center</td>\n    </tr>\n    <tr>\n      <th>3</th>\n      <td>Downtown Toronto</td>\n      <td>43.65426</td>\n      <td>-79.360636</td>\n      <td>Body Blitz Spa East</td>\n      <td>43.654735</td>\n      <td>-79.359874</td>\n      <td>Spa</td>\n    </tr>\n    <tr>\n      <th>4</th>\n      <td>Downtown Toronto</td>\n      <td>43.65426</td>\n      <td>-79.360636</td>\n      <td>Impact Kitchen</td>\n      <td>43.656369</td>\n      <td>-79.356980</td>\n      <td>Restaurant</td>\n    </tr>\n  </tbody>\n</table>\n</div>"
     },
     "metadata": {},
     "execution_count": 13
    }
   ],
   "source": [
    "print(toronto_venues.shape)\n",
    "toronto_venues.head()"
   ]
  },
  {
   "cell_type": "code",
   "execution_count": 14,
   "metadata": {
    "tags": []
   },
   "outputs": [
    {
     "output_type": "execute_result",
     "data": {
      "text/plain": "                  Neighborhood Latitude  Neighborhood Longitude  Venue  \\\nNeighborhood                                                             \nCentral Toronto                     107                     107    107   \nDowntown Toronto                   1238                    1238   1238   \nEast Toronto                        122                     122    122   \nWest Toronto                        160                     160    160   \n\n                  Venue Latitude  Venue Longitude  Venue Category  \nNeighborhood                                                       \nCentral Toronto              107              107             107  \nDowntown Toronto            1238             1238            1238  \nEast Toronto                 122              122             122  \nWest Toronto                 160              160             160  ",
      "text/html": "<div>\n<style scoped>\n    .dataframe tbody tr th:only-of-type {\n        vertical-align: middle;\n    }\n\n    .dataframe tbody tr th {\n        vertical-align: top;\n    }\n\n    .dataframe thead th {\n        text-align: right;\n    }\n</style>\n<table border=\"1\" class=\"dataframe\">\n  <thead>\n    <tr style=\"text-align: right;\">\n      <th></th>\n      <th>Neighborhood Latitude</th>\n      <th>Neighborhood Longitude</th>\n      <th>Venue</th>\n      <th>Venue Latitude</th>\n      <th>Venue Longitude</th>\n      <th>Venue Category</th>\n    </tr>\n    <tr>\n      <th>Neighborhood</th>\n      <th></th>\n      <th></th>\n      <th></th>\n      <th></th>\n      <th></th>\n      <th></th>\n    </tr>\n  </thead>\n  <tbody>\n    <tr>\n      <th>Central Toronto</th>\n      <td>107</td>\n      <td>107</td>\n      <td>107</td>\n      <td>107</td>\n      <td>107</td>\n      <td>107</td>\n    </tr>\n    <tr>\n      <th>Downtown Toronto</th>\n      <td>1238</td>\n      <td>1238</td>\n      <td>1238</td>\n      <td>1238</td>\n      <td>1238</td>\n      <td>1238</td>\n    </tr>\n    <tr>\n      <th>East Toronto</th>\n      <td>122</td>\n      <td>122</td>\n      <td>122</td>\n      <td>122</td>\n      <td>122</td>\n      <td>122</td>\n    </tr>\n    <tr>\n      <th>West Toronto</th>\n      <td>160</td>\n      <td>160</td>\n      <td>160</td>\n      <td>160</td>\n      <td>160</td>\n      <td>160</td>\n    </tr>\n  </tbody>\n</table>\n</div>"
     },
     "metadata": {},
     "execution_count": 14
    }
   ],
   "source": [
    "toronto_venues.groupby('Neighborhood').count()"
   ]
  },
  {
   "cell_type": "code",
   "execution_count": 15,
   "metadata": {
    "tags": []
   },
   "outputs": [
    {
     "output_type": "stream",
     "name": "stdout",
     "text": "There are 234 uniques categories.\n"
    }
   ],
   "source": [
    "print('There are {} uniques categories.'.format(len(toronto_venues['Venue Category'].unique())))"
   ]
  },
  {
   "cell_type": "code",
   "execution_count": 16,
   "metadata": {
    "tags": []
   },
   "outputs": [
    {
     "output_type": "stream",
     "name": "stdout",
     "text": "the dataframe has 1627 rows,234 columns, the \"Neighborhood\" column index number is 165.\n"
    }
   ],
   "source": [
    "# one hot encoding\n",
    "toronto_onehot = pd.get_dummies(toronto_venues[['Venue Category']], prefix=\"\", prefix_sep=\"\")\n",
    "\n",
    "\n",
    "# add neighborhood column back to dataframe\n",
    "toronto_onehot['Neighborhood'] = toronto_venues['Neighborhood']\n",
    "# get 'Neighborhood' cloumn index number \n",
    "number = toronto_onehot.columns.get_loc(\"Neighborhood\")\n",
    "print(f'the dataframe has {toronto_onehot.shape[0]} rows,{toronto_onehot.shape[1]} columns, the \"Neighborhood\" column index number is {number}.')\n"
   ]
  },
  {
   "cell_type": "code",
   "execution_count": 17,
   "metadata": {
    "tags": []
   },
   "outputs": [
    {
     "output_type": "execute_result",
     "data": {
      "text/plain": "   Afghan Restaurant  Airport  Airport Food Court  Airport Gate  \\\n0                  0        0                   0             0   \n1                  0        0                   0             0   \n2                  0        0                   0             0   \n3                  0        0                   0             0   \n4                  0        0                   0             0   \n\n   Airport Lounge  Airport Service  Airport Terminal  American Restaurant  \\\n0               0                0                 0                    0   \n1               0                0                 0                    0   \n2               0                0                 0                    0   \n3               0                0                 0                    0   \n4               0                0                 0                    0   \n\n   Antique Shop  Aquarium  ...  Theme Restaurant  Toy / Game Store  Trail  \\\n0             0         0  ...                 0                 0      0   \n1             0         0  ...                 0                 0      0   \n2             0         0  ...                 0                 0      0   \n3             0         0  ...                 0                 0      0   \n4             0         0  ...                 0                 0      0   \n\n   Train Station  Vegetarian / Vegan Restaurant  Video Game Store  \\\n0              0                              0                 0   \n1              0                              0                 0   \n2              0                              0                 0   \n3              0                              0                 0   \n4              0                              0                 0   \n\n   Vietnamese Restaurant  Wine Bar  Women's Store  Yoga Studio  \n0                      0         0              0            0  \n1                      0         0              0            0  \n2                      0         0              0            0  \n3                      0         0              0            0  \n4                      0         0              0            0  \n\n[5 rows x 234 columns]",
      "text/html": "<div>\n<style scoped>\n    .dataframe tbody tr th:only-of-type {\n        vertical-align: middle;\n    }\n\n    .dataframe tbody tr th {\n        vertical-align: top;\n    }\n\n    .dataframe thead th {\n        text-align: right;\n    }\n</style>\n<table border=\"1\" class=\"dataframe\">\n  <thead>\n    <tr style=\"text-align: right;\">\n      <th></th>\n      <th>Afghan Restaurant</th>\n      <th>Airport</th>\n      <th>Airport Food Court</th>\n      <th>Airport Gate</th>\n      <th>Airport Lounge</th>\n      <th>Airport Service</th>\n      <th>Airport Terminal</th>\n      <th>American Restaurant</th>\n      <th>Antique Shop</th>\n      <th>Aquarium</th>\n      <th>...</th>\n      <th>Theme Restaurant</th>\n      <th>Toy / Game Store</th>\n      <th>Trail</th>\n      <th>Train Station</th>\n      <th>Vegetarian / Vegan Restaurant</th>\n      <th>Video Game Store</th>\n      <th>Vietnamese Restaurant</th>\n      <th>Wine Bar</th>\n      <th>Women's Store</th>\n      <th>Yoga Studio</th>\n    </tr>\n  </thead>\n  <tbody>\n    <tr>\n      <th>0</th>\n      <td>0</td>\n      <td>0</td>\n      <td>0</td>\n      <td>0</td>\n      <td>0</td>\n      <td>0</td>\n      <td>0</td>\n      <td>0</td>\n      <td>0</td>\n      <td>0</td>\n      <td>...</td>\n      <td>0</td>\n      <td>0</td>\n      <td>0</td>\n      <td>0</td>\n      <td>0</td>\n      <td>0</td>\n      <td>0</td>\n      <td>0</td>\n      <td>0</td>\n      <td>0</td>\n    </tr>\n    <tr>\n      <th>1</th>\n      <td>0</td>\n      <td>0</td>\n      <td>0</td>\n      <td>0</td>\n      <td>0</td>\n      <td>0</td>\n      <td>0</td>\n      <td>0</td>\n      <td>0</td>\n      <td>0</td>\n      <td>...</td>\n      <td>0</td>\n      <td>0</td>\n      <td>0</td>\n      <td>0</td>\n      <td>0</td>\n      <td>0</td>\n      <td>0</td>\n      <td>0</td>\n      <td>0</td>\n      <td>0</td>\n    </tr>\n    <tr>\n      <th>2</th>\n      <td>0</td>\n      <td>0</td>\n      <td>0</td>\n      <td>0</td>\n      <td>0</td>\n      <td>0</td>\n      <td>0</td>\n      <td>0</td>\n      <td>0</td>\n      <td>0</td>\n      <td>...</td>\n      <td>0</td>\n      <td>0</td>\n      <td>0</td>\n      <td>0</td>\n      <td>0</td>\n      <td>0</td>\n      <td>0</td>\n      <td>0</td>\n      <td>0</td>\n      <td>0</td>\n    </tr>\n    <tr>\n      <th>3</th>\n      <td>0</td>\n      <td>0</td>\n      <td>0</td>\n      <td>0</td>\n      <td>0</td>\n      <td>0</td>\n      <td>0</td>\n      <td>0</td>\n      <td>0</td>\n      <td>0</td>\n      <td>...</td>\n      <td>0</td>\n      <td>0</td>\n      <td>0</td>\n      <td>0</td>\n      <td>0</td>\n      <td>0</td>\n      <td>0</td>\n      <td>0</td>\n      <td>0</td>\n      <td>0</td>\n    </tr>\n    <tr>\n      <th>4</th>\n      <td>0</td>\n      <td>0</td>\n      <td>0</td>\n      <td>0</td>\n      <td>0</td>\n      <td>0</td>\n      <td>0</td>\n      <td>0</td>\n      <td>0</td>\n      <td>0</td>\n      <td>...</td>\n      <td>0</td>\n      <td>0</td>\n      <td>0</td>\n      <td>0</td>\n      <td>0</td>\n      <td>0</td>\n      <td>0</td>\n      <td>0</td>\n      <td>0</td>\n      <td>0</td>\n    </tr>\n  </tbody>\n</table>\n<p>5 rows × 234 columns</p>\n</div>"
     },
     "metadata": {},
     "execution_count": 17
    }
   ],
   "source": [
    "toronto_onehot.head()"
   ]
  },
  {
   "cell_type": "code",
   "execution_count": 18,
   "metadata": {},
   "outputs": [
    {
     "output_type": "execute_result",
     "data": {
      "text/plain": "       Neighborhood  Afghan Restaurant   Airport  Airport Food Court  \\\n0   Central Toronto           0.000000  0.000000            0.000000   \n1  Downtown Toronto           0.000808  0.000808            0.000808   \n2      East Toronto           0.000000  0.000000            0.000000   \n3      West Toronto           0.000000  0.000000            0.000000   \n\n   Airport Gate  Airport Lounge  Airport Service  Airport Terminal  \\\n0      0.000000        0.000000         0.000000          0.000000   \n1      0.000808        0.000808         0.001616          0.001616   \n2      0.000000        0.000000         0.000000          0.000000   \n3      0.000000        0.000000         0.000000          0.000000   \n\n   American Restaurant  Antique Shop  ...  Theme Restaurant  Toy / Game Store  \\\n0             0.009346      0.000000  ...          0.000000          0.009346   \n1             0.013732      0.001616  ...          0.000808          0.001616   \n2             0.024590      0.000000  ...          0.000000          0.000000   \n3             0.000000      0.006250  ...          0.000000          0.000000   \n\n      Trail  Train Station  Vegetarian / Vegan Restaurant  Video Game Store  \\\n0  0.009346       0.000000                       0.009346          0.000000   \n1  0.000808       0.002423                       0.012116          0.000808   \n2  0.016393       0.000000                       0.000000          0.000000   \n3  0.000000       0.000000                       0.012500          0.000000   \n\n   Vietnamese Restaurant  Wine Bar  Women's Store  Yoga Studio  \n0               0.009346  0.000000       0.000000     0.009346  \n1               0.003231  0.006462       0.000808     0.005654  \n2               0.000000  0.008197       0.000000     0.024590  \n3               0.012500  0.006250       0.000000     0.018750  \n\n[4 rows x 234 columns]",
      "text/html": "<div>\n<style scoped>\n    .dataframe tbody tr th:only-of-type {\n        vertical-align: middle;\n    }\n\n    .dataframe tbody tr th {\n        vertical-align: top;\n    }\n\n    .dataframe thead th {\n        text-align: right;\n    }\n</style>\n<table border=\"1\" class=\"dataframe\">\n  <thead>\n    <tr style=\"text-align: right;\">\n      <th></th>\n      <th>Neighborhood</th>\n      <th>Afghan Restaurant</th>\n      <th>Airport</th>\n      <th>Airport Food Court</th>\n      <th>Airport Gate</th>\n      <th>Airport Lounge</th>\n      <th>Airport Service</th>\n      <th>Airport Terminal</th>\n      <th>American Restaurant</th>\n      <th>Antique Shop</th>\n      <th>...</th>\n      <th>Theme Restaurant</th>\n      <th>Toy / Game Store</th>\n      <th>Trail</th>\n      <th>Train Station</th>\n      <th>Vegetarian / Vegan Restaurant</th>\n      <th>Video Game Store</th>\n      <th>Vietnamese Restaurant</th>\n      <th>Wine Bar</th>\n      <th>Women's Store</th>\n      <th>Yoga Studio</th>\n    </tr>\n  </thead>\n  <tbody>\n    <tr>\n      <th>0</th>\n      <td>Central Toronto</td>\n      <td>0.000000</td>\n      <td>0.000000</td>\n      <td>0.000000</td>\n      <td>0.000000</td>\n      <td>0.000000</td>\n      <td>0.000000</td>\n      <td>0.000000</td>\n      <td>0.009346</td>\n      <td>0.000000</td>\n      <td>...</td>\n      <td>0.000000</td>\n      <td>0.009346</td>\n      <td>0.009346</td>\n      <td>0.000000</td>\n      <td>0.009346</td>\n      <td>0.000000</td>\n      <td>0.009346</td>\n      <td>0.000000</td>\n      <td>0.000000</td>\n      <td>0.009346</td>\n    </tr>\n    <tr>\n      <th>1</th>\n      <td>Downtown Toronto</td>\n      <td>0.000808</td>\n      <td>0.000808</td>\n      <td>0.000808</td>\n      <td>0.000808</td>\n      <td>0.000808</td>\n      <td>0.001616</td>\n      <td>0.001616</td>\n      <td>0.013732</td>\n      <td>0.001616</td>\n      <td>...</td>\n      <td>0.000808</td>\n      <td>0.001616</td>\n      <td>0.000808</td>\n      <td>0.002423</td>\n      <td>0.012116</td>\n      <td>0.000808</td>\n      <td>0.003231</td>\n      <td>0.006462</td>\n      <td>0.000808</td>\n      <td>0.005654</td>\n    </tr>\n    <tr>\n      <th>2</th>\n      <td>East Toronto</td>\n      <td>0.000000</td>\n      <td>0.000000</td>\n      <td>0.000000</td>\n      <td>0.000000</td>\n      <td>0.000000</td>\n      <td>0.000000</td>\n      <td>0.000000</td>\n      <td>0.024590</td>\n      <td>0.000000</td>\n      <td>...</td>\n      <td>0.000000</td>\n      <td>0.000000</td>\n      <td>0.016393</td>\n      <td>0.000000</td>\n      <td>0.000000</td>\n      <td>0.000000</td>\n      <td>0.000000</td>\n      <td>0.008197</td>\n      <td>0.000000</td>\n      <td>0.024590</td>\n    </tr>\n    <tr>\n      <th>3</th>\n      <td>West Toronto</td>\n      <td>0.000000</td>\n      <td>0.000000</td>\n      <td>0.000000</td>\n      <td>0.000000</td>\n      <td>0.000000</td>\n      <td>0.000000</td>\n      <td>0.000000</td>\n      <td>0.000000</td>\n      <td>0.006250</td>\n      <td>...</td>\n      <td>0.000000</td>\n      <td>0.000000</td>\n      <td>0.000000</td>\n      <td>0.000000</td>\n      <td>0.012500</td>\n      <td>0.000000</td>\n      <td>0.012500</td>\n      <td>0.006250</td>\n      <td>0.000000</td>\n      <td>0.018750</td>\n    </tr>\n  </tbody>\n</table>\n<p>4 rows × 234 columns</p>\n</div>"
     },
     "metadata": {},
     "execution_count": 18
    }
   ],
   "source": [
    "toronto_grouped = toronto_onehot.groupby('Neighborhood').mean().reset_index()\n",
    "toronto_grouped"
   ]
  },
  {
   "cell_type": "code",
   "execution_count": 19,
   "metadata": {
    "tags": []
   },
   "outputs": [],
   "source": [
    "# write a function to sort the venues in descending order.\n",
    "def return_most_common_venues(row, num_top_venues):\n",
    "    row_categories = row.iloc[1:]\n",
    "    row_categories_sorted = row_categories.sort_values(ascending=False)\n",
    "    \n",
    "    return row_categories_sorted.index.values[0:num_top_venues]"
   ]
  },
  {
   "cell_type": "code",
   "execution_count": 20,
   "metadata": {},
   "outputs": [
    {
     "output_type": "execute_result",
     "data": {
      "text/plain": "       Neighborhood 1st Most Common Venue 2nd Most Common Venue  \\\n0   Central Toronto           Coffee Shop        Sandwich Place   \n1  Downtown Toronto           Coffee Shop                  Café   \n2      East Toronto      Greek Restaurant           Coffee Shop   \n3      West Toronto                  Café                   Bar   \n\n  3rd Most Common Venue 4th Most Common Venue 5th Most Common Venue  \\\n0                  Park                  Café           Pizza Place   \n1            Restaurant                 Hotel   Japanese Restaurant   \n2    Italian Restaurant                  Café               Brewery   \n3           Coffee Shop            Restaurant                Bakery   \n\n  6th Most Common Venue 7th Most Common Venue 8th Most Common Venue  \\\n0            Restaurant      Sushi Restaurant                   Pub   \n1    Italian Restaurant                  Park                   Gym   \n2            Restaurant                  Park        Ice Cream Shop   \n3    Italian Restaurant         Grocery Store        Breakfast Spot   \n\n  9th Most Common Venue 10th Most Common Venue  \n0                   Gym           Dessert Shop  \n1                Bakery     Seafood Restaurant  \n2           Yoga Studio     Light Rail Station  \n3           Pizza Place       Asian Restaurant  ",
      "text/html": "<div>\n<style scoped>\n    .dataframe tbody tr th:only-of-type {\n        vertical-align: middle;\n    }\n\n    .dataframe tbody tr th {\n        vertical-align: top;\n    }\n\n    .dataframe thead th {\n        text-align: right;\n    }\n</style>\n<table border=\"1\" class=\"dataframe\">\n  <thead>\n    <tr style=\"text-align: right;\">\n      <th></th>\n      <th>Neighborhood</th>\n      <th>1st Most Common Venue</th>\n      <th>2nd Most Common Venue</th>\n      <th>3rd Most Common Venue</th>\n      <th>4th Most Common Venue</th>\n      <th>5th Most Common Venue</th>\n      <th>6th Most Common Venue</th>\n      <th>7th Most Common Venue</th>\n      <th>8th Most Common Venue</th>\n      <th>9th Most Common Venue</th>\n      <th>10th Most Common Venue</th>\n    </tr>\n  </thead>\n  <tbody>\n    <tr>\n      <th>0</th>\n      <td>Central Toronto</td>\n      <td>Coffee Shop</td>\n      <td>Sandwich Place</td>\n      <td>Park</td>\n      <td>Café</td>\n      <td>Pizza Place</td>\n      <td>Restaurant</td>\n      <td>Sushi Restaurant</td>\n      <td>Pub</td>\n      <td>Gym</td>\n      <td>Dessert Shop</td>\n    </tr>\n    <tr>\n      <th>1</th>\n      <td>Downtown Toronto</td>\n      <td>Coffee Shop</td>\n      <td>Café</td>\n      <td>Restaurant</td>\n      <td>Hotel</td>\n      <td>Japanese Restaurant</td>\n      <td>Italian Restaurant</td>\n      <td>Park</td>\n      <td>Gym</td>\n      <td>Bakery</td>\n      <td>Seafood Restaurant</td>\n    </tr>\n    <tr>\n      <th>2</th>\n      <td>East Toronto</td>\n      <td>Greek Restaurant</td>\n      <td>Coffee Shop</td>\n      <td>Italian Restaurant</td>\n      <td>Café</td>\n      <td>Brewery</td>\n      <td>Restaurant</td>\n      <td>Park</td>\n      <td>Ice Cream Shop</td>\n      <td>Yoga Studio</td>\n      <td>Light Rail Station</td>\n    </tr>\n    <tr>\n      <th>3</th>\n      <td>West Toronto</td>\n      <td>Café</td>\n      <td>Bar</td>\n      <td>Coffee Shop</td>\n      <td>Restaurant</td>\n      <td>Bakery</td>\n      <td>Italian Restaurant</td>\n      <td>Grocery Store</td>\n      <td>Breakfast Spot</td>\n      <td>Pizza Place</td>\n      <td>Asian Restaurant</td>\n    </tr>\n  </tbody>\n</table>\n</div>"
     },
     "metadata": {},
     "execution_count": 20
    }
   ],
   "source": [
    "# create the new dataframe and display the top 10 venues for each neighborhood.\n",
    "num_top_venues = 10\n",
    "\n",
    "indicators = ['st', 'nd', 'rd']\n",
    "\n",
    "# create columns according to number of top venues\n",
    "columns = ['Neighborhood']\n",
    "for ind in np.arange(num_top_venues):\n",
    "    try:\n",
    "        columns.append('{}{} Most Common Venue'.format(ind+1, indicators[ind]))\n",
    "    except:\n",
    "        columns.append('{}th Most Common Venue'.format(ind+1))\n",
    "\n",
    "# create a new dataframe\n",
    "neighborhoods_venues_sorted = pd.DataFrame(columns=columns)\n",
    "neighborhoods_venues_sorted['Neighborhood'] = toronto_grouped['Neighborhood']\n",
    "\n",
    "for ind in np.arange(toronto_grouped.shape[0]):\n",
    "    neighborhoods_venues_sorted.iloc[ind, 1:] = return_most_common_venues(toronto_grouped.iloc[ind, :], num_top_venues)\n",
    "\n",
    "neighborhoods_venues_sorted.head()\n"
   ]
  },
  {
   "cell_type": "markdown",
   "metadata": {},
   "source": [
    "### Cluster the neighborhood"
   ]
  },
  {
   "cell_type": "code",
   "execution_count": 21,
   "metadata": {},
   "outputs": [
    {
     "output_type": "execute_result",
     "data": {
      "text/plain": "array([0, 3, 1, 2])"
     },
     "metadata": {},
     "execution_count": 21
    }
   ],
   "source": [
    "# set number of clusters\n",
    "kclusters = 4\n",
    "\n",
    "toronto_grouped_clustering = toronto_grouped.drop('Neighborhood', 1)\n",
    "\n",
    "# run k-means clustering\n",
    "kmeans = KMeans(n_clusters=kclusters, random_state=0).fit(toronto_grouped_clustering)\n",
    "\n",
    "# check cluster labels generated for each row in the dataframe\n",
    "kmeans.labels_[:] "
   ]
  },
  {
   "cell_type": "code",
   "execution_count": 22,
   "metadata": {},
   "outputs": [
    {
     "output_type": "execute_result",
     "data": {
      "text/plain": "  Postal Code           Borough                                Neighbourhood  \\\n0         M5A  Downtown Toronto                    Regent Park, Harbourfront   \n1         M7A  Downtown Toronto  Queen's Park, Ontario Provincial Government   \n2         M5B  Downtown Toronto                     Garden District, Ryerson   \n3         M5C  Downtown Toronto                               St. James Town   \n4         M4E      East Toronto                                  The Beaches   \n\n    Latitude  Longitude  Cluster Labels 1st Most Common Venue  \\\n0  43.654260 -79.360636               3           Coffee Shop   \n1  43.662301 -79.389494               3           Coffee Shop   \n2  43.657162 -79.378937               3           Coffee Shop   \n3  43.651494 -79.375418               3           Coffee Shop   \n4  43.676357 -79.293031               1      Greek Restaurant   \n\n  2nd Most Common Venue 3rd Most Common Venue 4th Most Common Venue  \\\n0                  Café            Restaurant                 Hotel   \n1                  Café            Restaurant                 Hotel   \n2                  Café            Restaurant                 Hotel   \n3                  Café            Restaurant                 Hotel   \n4           Coffee Shop    Italian Restaurant                  Café   \n\n  5th Most Common Venue 6th Most Common Venue 7th Most Common Venue  \\\n0   Japanese Restaurant    Italian Restaurant                  Park   \n1   Japanese Restaurant    Italian Restaurant                  Park   \n2   Japanese Restaurant    Italian Restaurant                  Park   \n3   Japanese Restaurant    Italian Restaurant                  Park   \n4               Brewery            Restaurant                  Park   \n\n  8th Most Common Venue 9th Most Common Venue 10th Most Common Venue  \n0                   Gym                Bakery     Seafood Restaurant  \n1                   Gym                Bakery     Seafood Restaurant  \n2                   Gym                Bakery     Seafood Restaurant  \n3                   Gym                Bakery     Seafood Restaurant  \n4        Ice Cream Shop           Yoga Studio     Light Rail Station  ",
      "text/html": "<div>\n<style scoped>\n    .dataframe tbody tr th:only-of-type {\n        vertical-align: middle;\n    }\n\n    .dataframe tbody tr th {\n        vertical-align: top;\n    }\n\n    .dataframe thead th {\n        text-align: right;\n    }\n</style>\n<table border=\"1\" class=\"dataframe\">\n  <thead>\n    <tr style=\"text-align: right;\">\n      <th></th>\n      <th>Postal Code</th>\n      <th>Borough</th>\n      <th>Neighbourhood</th>\n      <th>Latitude</th>\n      <th>Longitude</th>\n      <th>Cluster Labels</th>\n      <th>1st Most Common Venue</th>\n      <th>2nd Most Common Venue</th>\n      <th>3rd Most Common Venue</th>\n      <th>4th Most Common Venue</th>\n      <th>5th Most Common Venue</th>\n      <th>6th Most Common Venue</th>\n      <th>7th Most Common Venue</th>\n      <th>8th Most Common Venue</th>\n      <th>9th Most Common Venue</th>\n      <th>10th Most Common Venue</th>\n    </tr>\n  </thead>\n  <tbody>\n    <tr>\n      <th>0</th>\n      <td>M5A</td>\n      <td>Downtown Toronto</td>\n      <td>Regent Park, Harbourfront</td>\n      <td>43.654260</td>\n      <td>-79.360636</td>\n      <td>3</td>\n      <td>Coffee Shop</td>\n      <td>Café</td>\n      <td>Restaurant</td>\n      <td>Hotel</td>\n      <td>Japanese Restaurant</td>\n      <td>Italian Restaurant</td>\n      <td>Park</td>\n      <td>Gym</td>\n      <td>Bakery</td>\n      <td>Seafood Restaurant</td>\n    </tr>\n    <tr>\n      <th>1</th>\n      <td>M7A</td>\n      <td>Downtown Toronto</td>\n      <td>Queen's Park, Ontario Provincial Government</td>\n      <td>43.662301</td>\n      <td>-79.389494</td>\n      <td>3</td>\n      <td>Coffee Shop</td>\n      <td>Café</td>\n      <td>Restaurant</td>\n      <td>Hotel</td>\n      <td>Japanese Restaurant</td>\n      <td>Italian Restaurant</td>\n      <td>Park</td>\n      <td>Gym</td>\n      <td>Bakery</td>\n      <td>Seafood Restaurant</td>\n    </tr>\n    <tr>\n      <th>2</th>\n      <td>M5B</td>\n      <td>Downtown Toronto</td>\n      <td>Garden District, Ryerson</td>\n      <td>43.657162</td>\n      <td>-79.378937</td>\n      <td>3</td>\n      <td>Coffee Shop</td>\n      <td>Café</td>\n      <td>Restaurant</td>\n      <td>Hotel</td>\n      <td>Japanese Restaurant</td>\n      <td>Italian Restaurant</td>\n      <td>Park</td>\n      <td>Gym</td>\n      <td>Bakery</td>\n      <td>Seafood Restaurant</td>\n    </tr>\n    <tr>\n      <th>3</th>\n      <td>M5C</td>\n      <td>Downtown Toronto</td>\n      <td>St. James Town</td>\n      <td>43.651494</td>\n      <td>-79.375418</td>\n      <td>3</td>\n      <td>Coffee Shop</td>\n      <td>Café</td>\n      <td>Restaurant</td>\n      <td>Hotel</td>\n      <td>Japanese Restaurant</td>\n      <td>Italian Restaurant</td>\n      <td>Park</td>\n      <td>Gym</td>\n      <td>Bakery</td>\n      <td>Seafood Restaurant</td>\n    </tr>\n    <tr>\n      <th>4</th>\n      <td>M4E</td>\n      <td>East Toronto</td>\n      <td>The Beaches</td>\n      <td>43.676357</td>\n      <td>-79.293031</td>\n      <td>1</td>\n      <td>Greek Restaurant</td>\n      <td>Coffee Shop</td>\n      <td>Italian Restaurant</td>\n      <td>Café</td>\n      <td>Brewery</td>\n      <td>Restaurant</td>\n      <td>Park</td>\n      <td>Ice Cream Shop</td>\n      <td>Yoga Studio</td>\n      <td>Light Rail Station</td>\n    </tr>\n  </tbody>\n</table>\n</div>"
     },
     "metadata": {},
     "execution_count": 22
    }
   ],
   "source": [
    "# add clustering labels\n",
    "neighborhoods_venues_sorted.insert(0, 'Cluster Labels', kmeans.labels_)\n",
    "# neighborhoods_venues_sorted\n",
    "\n",
    "toronto_merged = df_data\n",
    "\n",
    "# merge toronto_grouped with toronto_data to add latitude/longitude for each neighborhood\n",
    "toronto_merged = toronto_merged.join(neighborhoods_venues_sorted.set_index('Neighborhood'), on='Borough')\n",
    "\n",
    "toronto_merged.head() # check the last columns!"
   ]
  },
  {
   "cell_type": "code",
   "execution_count": 23,
   "metadata": {},
   "outputs": [
    {
     "output_type": "execute_result",
     "data": {
      "text/plain": "<folium.folium.Map at 0x22b9ec63dc8>",
      "text/html": "<div style=\"width:100%;\"><div style=\"position:relative;width:100%;height:0;padding-bottom:60%;\"><span style=\"color:#565656\">Make this Notebook Trusted to load map: File -> Trust Notebook</span><iframe src=\"about:blank\" style=\"position:absolute;width:100%;height:100%;left:0;top:0;border:none !important;\" data-html=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 onload=\"this.contentDocument.open();this.contentDocument.write(atob(this.getAttribute('data-html')));this.contentDocument.close();\" allowfullscreen webkitallowfullscreen mozallowfullscreen></iframe></div></div>"
     },
     "metadata": {},
     "execution_count": 23
    }
   ],
   "source": [
    "# create map\n",
    "geolocator = Nominatim(user_agent=\"ny_explorer\")\n",
    "location = geolocator.geocode('Toronto On')\n",
    "latitude = location.latitude\n",
    "longitude = location.longitude\n",
    "\n",
    "map_clusters = folium.Map(location=[latitude, longitude], zoom_start=11)\n",
    "\n",
    "# set color scheme for the clusters\n",
    "x = np.arange(kclusters)\n",
    "ys = [i + x + (i*x)**2 for i in range(kclusters)]\n",
    "colors_array = cm.rainbow(np.linspace(0, 1, len(ys)))\n",
    "rainbow = [colors.rgb2hex(i) for i in colors_array]\n",
    "\n",
    "# add markers to the map\n",
    "markers_colors = []\n",
    "for lat, lon, poi, cluster in zip(toronto_merged['Latitude'], toronto_merged['Longitude'], toronto_merged['Neighbourhood'], toronto_merged['Cluster Labels']):\n",
    "    label = folium.Popup(str(poi) + ' Cluster ' + str(cluster), parse_html=True)\n",
    "    folium.CircleMarker(\n",
    "        [lat, lon],\n",
    "        radius=5,\n",
    "        popup=label,\n",
    "        color=rainbow[cluster-1],\n",
    "        fill=True,\n",
    "        fill_color=rainbow[cluster-1],\n",
    "        fill_opacity=0.7).add_to(map_clusters)\n",
    "       \n",
    "map_clusters"
   ]
  }
 ]
}