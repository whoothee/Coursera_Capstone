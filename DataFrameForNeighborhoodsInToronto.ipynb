{
 "metadata": {
  "language_info": {
   "codemirror_mode": {
    "name": "ipython",
    "version": 3
   },
   "file_extension": ".py",
   "mimetype": "text/x-python",
   "name": "python",
   "nbconvert_exporter": "python",
   "pygments_lexer": "ipython3",
   "version": 3
  },
  "orig_nbformat": 2,
  "kernelspec": {
   "name": "python_defaultSpec_1596750533028",
   "display_name": "Python 3.7.6 64-bit ('base': conda)"
  }
 },
 "nbformat": 4,
 "nbformat_minor": 2,
 "cells": [
  {
   "cell_type": "markdown",
   "metadata": {},
   "source": [
    "<h1 align=center><font size = 5>Data Frame For Neighborhoods in Toronto</font></h1>"
   ]
  },
  {
   "cell_type": "markdown",
   "metadata": {},
   "source": [
    "# 1. Cleanning the Dataframe"
   ]
  },
  {
   "cell_type": "code",
   "execution_count": 1,
   "metadata": {},
   "outputs": [],
   "source": [
    "import pandas as pd\n",
    "import requests\n",
    "from IPython.display import display_html"
   ]
  },
  {
   "cell_type": "code",
   "execution_count": 2,
   "metadata": {
    "tags": []
   },
   "outputs": [
    {
     "output_type": "execute_result",
     "data": {
      "text/plain": "  Postal Code           Borough              Neighbourhood\n0         M1A      Not assigned               Not assigned\n1         M2A      Not assigned               Not assigned\n2         M3A        North York                  Parkwoods\n3         M4A        North York           Victoria Village\n4         M5A  Downtown Toronto  Regent Park, Harbourfront",
      "text/html": "<div>\n<style scoped>\n    .dataframe tbody tr th:only-of-type {\n        vertical-align: middle;\n    }\n\n    .dataframe tbody tr th {\n        vertical-align: top;\n    }\n\n    .dataframe thead th {\n        text-align: right;\n    }\n</style>\n<table border=\"1\" class=\"dataframe\">\n  <thead>\n    <tr style=\"text-align: right;\">\n      <th></th>\n      <th>Postal Code</th>\n      <th>Borough</th>\n      <th>Neighbourhood</th>\n    </tr>\n  </thead>\n  <tbody>\n    <tr>\n      <th>0</th>\n      <td>M1A</td>\n      <td>Not assigned</td>\n      <td>Not assigned</td>\n    </tr>\n    <tr>\n      <th>1</th>\n      <td>M2A</td>\n      <td>Not assigned</td>\n      <td>Not assigned</td>\n    </tr>\n    <tr>\n      <th>2</th>\n      <td>M3A</td>\n      <td>North York</td>\n      <td>Parkwoods</td>\n    </tr>\n    <tr>\n      <th>3</th>\n      <td>M4A</td>\n      <td>North York</td>\n      <td>Victoria Village</td>\n    </tr>\n    <tr>\n      <th>4</th>\n      <td>M5A</td>\n      <td>Downtown Toronto</td>\n      <td>Regent Park, Harbourfront</td>\n    </tr>\n  </tbody>\n</table>\n</div>"
     },
     "metadata": {},
     "execution_count": 2
    }
   ],
   "source": [
    "#Parsing HTML by Pandas\n",
    "url ='https://en.wikipedia.org/wiki/List_of_postal_codes_of_Canada:_M'\n",
    "res = requests.get(url)\n",
    "\n",
    "dfs = pd.read_html(res.text)\n",
    "df = dfs[0]\n",
    "df.head()\n",
    "\n"
   ]
  },
  {
   "cell_type": "code",
   "execution_count": 3,
   "metadata": {},
   "outputs": [
    {
     "output_type": "execute_result",
     "data": {
      "text/plain": "  Postal Code           Borough                                Neighbourhood\n0         M3A        North York                                    Parkwoods\n1         M4A        North York                             Victoria Village\n2         M5A  Downtown Toronto                    Regent Park, Harbourfront\n3         M6A        North York             Lawrence Manor, Lawrence Heights\n4         M7A  Downtown Toronto  Queen's Park, Ontario Provincial Government",
      "text/html": "<div>\n<style scoped>\n    .dataframe tbody tr th:only-of-type {\n        vertical-align: middle;\n    }\n\n    .dataframe tbody tr th {\n        vertical-align: top;\n    }\n\n    .dataframe thead th {\n        text-align: right;\n    }\n</style>\n<table border=\"1\" class=\"dataframe\">\n  <thead>\n    <tr style=\"text-align: right;\">\n      <th></th>\n      <th>Postal Code</th>\n      <th>Borough</th>\n      <th>Neighbourhood</th>\n    </tr>\n  </thead>\n  <tbody>\n    <tr>\n      <th>0</th>\n      <td>M3A</td>\n      <td>North York</td>\n      <td>Parkwoods</td>\n    </tr>\n    <tr>\n      <th>1</th>\n      <td>M4A</td>\n      <td>North York</td>\n      <td>Victoria Village</td>\n    </tr>\n    <tr>\n      <th>2</th>\n      <td>M5A</td>\n      <td>Downtown Toronto</td>\n      <td>Regent Park, Harbourfront</td>\n    </tr>\n    <tr>\n      <th>3</th>\n      <td>M6A</td>\n      <td>North York</td>\n      <td>Lawrence Manor, Lawrence Heights</td>\n    </tr>\n    <tr>\n      <th>4</th>\n      <td>M7A</td>\n      <td>Downtown Toronto</td>\n      <td>Queen's Park, Ontario Provincial Government</td>\n    </tr>\n  </tbody>\n</table>\n</div>"
     },
     "metadata": {},
     "execution_count": 3
    }
   ],
   "source": [
    "#drop cells with a borough that is Not assigned.\n",
    "df = df[df.Borough != 'Not assigned']\n",
    "df.reset_index(drop = True, inplace=True)\n",
    "df.head()"
   ]
  },
  {
   "cell_type": "code",
   "execution_count": 4,
   "metadata": {},
   "outputs": [
    {
     "output_type": "execute_result",
     "data": {
      "text/plain": "  Postal Code           Borough                                Neighbourhood\n0         M3A        North York                                    Parkwoods\n1         M4A        North York                             Victoria Village\n2         M5A  Downtown Toronto                    Regent Park, Harbourfront\n3         M6A        North York             Lawrence Manor, Lawrence Heights\n4         M7A  Downtown Toronto  Queen's Park, Ontario Provincial Government",
      "text/html": "<div>\n<style scoped>\n    .dataframe tbody tr th:only-of-type {\n        vertical-align: middle;\n    }\n\n    .dataframe tbody tr th {\n        vertical-align: top;\n    }\n\n    .dataframe thead th {\n        text-align: right;\n    }\n</style>\n<table border=\"1\" class=\"dataframe\">\n  <thead>\n    <tr style=\"text-align: right;\">\n      <th></th>\n      <th>Postal Code</th>\n      <th>Borough</th>\n      <th>Neighbourhood</th>\n    </tr>\n  </thead>\n  <tbody>\n    <tr>\n      <th>0</th>\n      <td>M3A</td>\n      <td>North York</td>\n      <td>Parkwoods</td>\n    </tr>\n    <tr>\n      <th>1</th>\n      <td>M4A</td>\n      <td>North York</td>\n      <td>Victoria Village</td>\n    </tr>\n    <tr>\n      <th>2</th>\n      <td>M5A</td>\n      <td>Downtown Toronto</td>\n      <td>Regent Park, Harbourfront</td>\n    </tr>\n    <tr>\n      <th>3</th>\n      <td>M6A</td>\n      <td>North York</td>\n      <td>Lawrence Manor, Lawrence Heights</td>\n    </tr>\n    <tr>\n      <th>4</th>\n      <td>M7A</td>\n      <td>Downtown Toronto</td>\n      <td>Queen's Park, Ontario Provincial Government</td>\n    </tr>\n  </tbody>\n</table>\n</div>"
     },
     "metadata": {},
     "execution_count": 4
    }
   ],
   "source": [
    "# combine neibourhood with a same postal code\n",
    "df.groupby(['Postal Code'])['Neighbourhood'].apply(','.join).reset_index()\n",
    "df.head()\n",
    "\n"
   ]
  },
  {
   "cell_type": "code",
   "execution_count": 5,
   "metadata": {},
   "outputs": [
    {
     "output_type": "execute_result",
     "data": {
      "text/plain": "  Postal Code           Borough                                Neighbourhood\n0         M3A        North York                                    Parkwoods\n1         M4A        North York                             Victoria Village\n2         M5A  Downtown Toronto                    Regent Park, Harbourfront\n3         M6A        North York             Lawrence Manor, Lawrence Heights\n4         M7A  Downtown Toronto  Queen's Park, Ontario Provincial Government",
      "text/html": "<div>\n<style scoped>\n    .dataframe tbody tr th:only-of-type {\n        vertical-align: middle;\n    }\n\n    .dataframe tbody tr th {\n        vertical-align: top;\n    }\n\n    .dataframe thead th {\n        text-align: right;\n    }\n</style>\n<table border=\"1\" class=\"dataframe\">\n  <thead>\n    <tr style=\"text-align: right;\">\n      <th></th>\n      <th>Postal Code</th>\n      <th>Borough</th>\n      <th>Neighbourhood</th>\n    </tr>\n  </thead>\n  <tbody>\n    <tr>\n      <th>0</th>\n      <td>M3A</td>\n      <td>North York</td>\n      <td>Parkwoods</td>\n    </tr>\n    <tr>\n      <th>1</th>\n      <td>M4A</td>\n      <td>North York</td>\n      <td>Victoria Village</td>\n    </tr>\n    <tr>\n      <th>2</th>\n      <td>M5A</td>\n      <td>Downtown Toronto</td>\n      <td>Regent Park, Harbourfront</td>\n    </tr>\n    <tr>\n      <th>3</th>\n      <td>M6A</td>\n      <td>North York</td>\n      <td>Lawrence Manor, Lawrence Heights</td>\n    </tr>\n    <tr>\n      <th>4</th>\n      <td>M7A</td>\n      <td>Downtown Toronto</td>\n      <td>Queen's Park, Ontario Provincial Government</td>\n    </tr>\n  </tbody>\n</table>\n</div>"
     },
     "metadata": {},
     "execution_count": 5
    }
   ],
   "source": [
    "df['Neighbourhood']=df['Neighbourhood'].replace('Not assigned', df['Borough'])\n",
    "df.head()"
   ]
  },
  {
   "cell_type": "code",
   "execution_count": 6,
   "metadata": {
    "tags": []
   },
   "outputs": [
    {
     "output_type": "stream",
     "name": "stdout",
     "text": "There are 103 rows after cleaning the dataframe\n"
    }
   ],
   "source": [
    "print(f'There are {df.shape[0]} rows after cleaning the dataframe')"
   ]
  },
  {
   "cell_type": "markdown",
   "metadata": {},
   "source": [
    "# 2. Creating Dataframe by Querying Foursquare Location Data"
   ]
  },
  {
   "cell_type": "code",
   "execution_count": 8,
   "metadata": {
    "tags": []
   },
   "outputs": [
    {
     "output_type": "execute_result",
     "data": {
      "text/plain": "    Postal Code           Borough  \\\n0           M3A        North York   \n1           M4A        North York   \n2           M5A  Downtown Toronto   \n3           M6A        North York   \n4           M7A  Downtown Toronto   \n..          ...               ...   \n98          M8X         Etobicoke   \n99          M4Y  Downtown Toronto   \n100         M7Y      East Toronto   \n101         M8Y         Etobicoke   \n102         M8Z         Etobicoke   \n\n                                         Neighbourhood   Latitude  Longitude  \n0                                            Parkwoods  43.753259 -79.329656  \n1                                     Victoria Village  43.725882 -79.315572  \n2                            Regent Park, Harbourfront  43.654260 -79.360636  \n3                     Lawrence Manor, Lawrence Heights  43.718518 -79.464763  \n4          Queen's Park, Ontario Provincial Government  43.662301 -79.389494  \n..                                                 ...        ...        ...  \n98       The Kingsway, Montgomery Road, Old Mill North  43.653654 -79.506944  \n99                                Church and Wellesley  43.665860 -79.383160  \n100  Business reply mail Processing Centre, South C...  43.662744 -79.321558  \n101  Old Mill South, King's Mill Park, Sunnylea, Hu...  43.636258 -79.498509  \n102  Mimico NW, The Queensway West, South of Bloor,...  43.628841 -79.520999  \n\n[103 rows x 5 columns]",
      "text/html": "<div>\n<style scoped>\n    .dataframe tbody tr th:only-of-type {\n        vertical-align: middle;\n    }\n\n    .dataframe tbody tr th {\n        vertical-align: top;\n    }\n\n    .dataframe thead th {\n        text-align: right;\n    }\n</style>\n<table border=\"1\" class=\"dataframe\">\n  <thead>\n    <tr style=\"text-align: right;\">\n      <th></th>\n      <th>Postal Code</th>\n      <th>Borough</th>\n      <th>Neighbourhood</th>\n      <th>Latitude</th>\n      <th>Longitude</th>\n    </tr>\n  </thead>\n  <tbody>\n    <tr>\n      <th>0</th>\n      <td>M3A</td>\n      <td>North York</td>\n      <td>Parkwoods</td>\n      <td>43.753259</td>\n      <td>-79.329656</td>\n    </tr>\n    <tr>\n      <th>1</th>\n      <td>M4A</td>\n      <td>North York</td>\n      <td>Victoria Village</td>\n      <td>43.725882</td>\n      <td>-79.315572</td>\n    </tr>\n    <tr>\n      <th>2</th>\n      <td>M5A</td>\n      <td>Downtown Toronto</td>\n      <td>Regent Park, Harbourfront</td>\n      <td>43.654260</td>\n      <td>-79.360636</td>\n    </tr>\n    <tr>\n      <th>3</th>\n      <td>M6A</td>\n      <td>North York</td>\n      <td>Lawrence Manor, Lawrence Heights</td>\n      <td>43.718518</td>\n      <td>-79.464763</td>\n    </tr>\n    <tr>\n      <th>4</th>\n      <td>M7A</td>\n      <td>Downtown Toronto</td>\n      <td>Queen's Park, Ontario Provincial Government</td>\n      <td>43.662301</td>\n      <td>-79.389494</td>\n    </tr>\n    <tr>\n      <th>...</th>\n      <td>...</td>\n      <td>...</td>\n      <td>...</td>\n      <td>...</td>\n      <td>...</td>\n    </tr>\n    <tr>\n      <th>98</th>\n      <td>M8X</td>\n      <td>Etobicoke</td>\n      <td>The Kingsway, Montgomery Road, Old Mill North</td>\n      <td>43.653654</td>\n      <td>-79.506944</td>\n    </tr>\n    <tr>\n      <th>99</th>\n      <td>M4Y</td>\n      <td>Downtown Toronto</td>\n      <td>Church and Wellesley</td>\n      <td>43.665860</td>\n      <td>-79.383160</td>\n    </tr>\n    <tr>\n      <th>100</th>\n      <td>M7Y</td>\n      <td>East Toronto</td>\n      <td>Business reply mail Processing Centre, South C...</td>\n      <td>43.662744</td>\n      <td>-79.321558</td>\n    </tr>\n    <tr>\n      <th>101</th>\n      <td>M8Y</td>\n      <td>Etobicoke</td>\n      <td>Old Mill South, King's Mill Park, Sunnylea, Hu...</td>\n      <td>43.636258</td>\n      <td>-79.498509</td>\n    </tr>\n    <tr>\n      <th>102</th>\n      <td>M8Z</td>\n      <td>Etobicoke</td>\n      <td>Mimico NW, The Queensway West, South of Bloor,...</td>\n      <td>43.628841</td>\n      <td>-79.520999</td>\n    </tr>\n  </tbody>\n</table>\n<p>103 rows × 5 columns</p>\n</div>"
     },
     "metadata": {},
     "execution_count": 8
    }
   ],
   "source": [
    "df1 = pd.read_csv('../Geospatial_Coordinates.csv')\n",
    "df_inner = pd.merge(df, df1, on='Postal Code', how='inner')\n",
    "df_inner\n"
   ]
  },
  {
   "cell_type": "markdown",
   "metadata": {},
   "source": [
    "# 3.Explore and cluster the neighborhoods in Toronto "
   ]
  },
  {
   "cell_type": "code",
   "execution_count": 11,
   "metadata": {},
   "outputs": [],
   "source": [
    "import numpy as np\n",
    "import json # library to handle JSON files\n",
    "import requests # library to handle requests\n",
    "from pandas.io.json import json_normalize # tranform JSON file into a pandas dataframe\n",
    "# Matplotlib and associated plotting modules\n",
    "import matplotlib.cm as cm\n",
    "import matplotlib.colors as colors\n",
    "# import k-means from clustering stage\n",
    "from sklearn.cluster import KMeans\n",
    "import folium # map rendering library\n",
    "from geopy.geocoders import Nominatim # convert an address into latitude and longitude values\n"
   ]
  },
  {
   "cell_type": "code",
   "execution_count": 25,
   "metadata": {},
   "outputs": [],
   "source": [
    "# @hidden_cell\n",
    "CLIENT_ID = 'UXWEDPWPTWEWH0YVOCWCCOTR11CTY25TK3OPNALHQMN2YFEN' # your Foursquare ID\n",
    "CLIENT_SECRET = 'D5Q2RYDAXAIGCI3O5SHQNZ4O15HJGQYXYFYAPXT3SB1P2VI4' # your Foursquare Secret\n",
    "VERSION = '20200806' # Foursquare API version\n",
    "LIMIT = 100\n"
   ]
  },
  {
   "cell_type": "code",
   "execution_count": 21,
   "metadata": {
    "tags": []
   },
   "outputs": [
    {
     "output_type": "execute_result",
     "data": {
      "text/plain": "  Postal Code           Borough                                Neighbourhood  \\\n0         M5A  Downtown Toronto                    Regent Park, Harbourfront   \n1         M7A  Downtown Toronto  Queen's Park, Ontario Provincial Government   \n2         M5B  Downtown Toronto                     Garden District, Ryerson   \n3         M5C  Downtown Toronto                               St. James Town   \n4         M4E      East Toronto                                  The Beaches   \n\n    Latitude  Longitude  \n0  43.654260 -79.360636  \n1  43.662301 -79.389494  \n2  43.657162 -79.378937  \n3  43.651494 -79.375418  \n4  43.676357 -79.293031  ",
      "text/html": "<div>\n<style scoped>\n    .dataframe tbody tr th:only-of-type {\n        vertical-align: middle;\n    }\n\n    .dataframe tbody tr th {\n        vertical-align: top;\n    }\n\n    .dataframe thead th {\n        text-align: right;\n    }\n</style>\n<table border=\"1\" class=\"dataframe\">\n  <thead>\n    <tr style=\"text-align: right;\">\n      <th></th>\n      <th>Postal Code</th>\n      <th>Borough</th>\n      <th>Neighbourhood</th>\n      <th>Latitude</th>\n      <th>Longitude</th>\n    </tr>\n  </thead>\n  <tbody>\n    <tr>\n      <th>0</th>\n      <td>M5A</td>\n      <td>Downtown Toronto</td>\n      <td>Regent Park, Harbourfront</td>\n      <td>43.654260</td>\n      <td>-79.360636</td>\n    </tr>\n    <tr>\n      <th>1</th>\n      <td>M7A</td>\n      <td>Downtown Toronto</td>\n      <td>Queen's Park, Ontario Provincial Government</td>\n      <td>43.662301</td>\n      <td>-79.389494</td>\n    </tr>\n    <tr>\n      <th>2</th>\n      <td>M5B</td>\n      <td>Downtown Toronto</td>\n      <td>Garden District, Ryerson</td>\n      <td>43.657162</td>\n      <td>-79.378937</td>\n    </tr>\n    <tr>\n      <th>3</th>\n      <td>M5C</td>\n      <td>Downtown Toronto</td>\n      <td>St. James Town</td>\n      <td>43.651494</td>\n      <td>-79.375418</td>\n    </tr>\n    <tr>\n      <th>4</th>\n      <td>M4E</td>\n      <td>East Toronto</td>\n      <td>The Beaches</td>\n      <td>43.676357</td>\n      <td>-79.293031</td>\n    </tr>\n  </tbody>\n</table>\n</div>"
     },
     "metadata": {},
     "execution_count": 21
    }
   ],
   "source": [
    "# select rows that contain Toronto in Borough column\n",
    "df_data = df_inner[df_inner['Borough'].str.contains('Toronto')]\n",
    "df_data.reset_index(inplace = True, drop=True)\n",
    "df_data.head()"
   ]
  },
  {
   "cell_type": "code",
   "execution_count": 23,
   "metadata": {},
   "outputs": [],
   "source": [
    "# define the function to query vanues through foursquare\n",
    "def getNearbyVenues(names, latitudes, longitudes, radius=500):\n",
    "    venues_list=[]\n",
    "    for name, lat, lng in zip(names, latitudes, longitudes):\n",
    "        print(name)\n",
    "            \n",
    "        # create the API request URL\n",
    "        url = 'https://api.foursquare.com/v2/venues/explore?&client_id={}&client_secret={}&v={}&ll={},{}&radius={}&limit={}'.format(\n",
    "            CLIENT_ID, \n",
    "            CLIENT_SECRET, \n",
    "            VERSION, \n",
    "            lat, \n",
    "            lng, \n",
    "            radius, \n",
    "            LIMIT)\n",
    "            \n",
    "        # make the GET request\n",
    "        results = requests.get(url).json()[\"response\"]['groups'][0]['items']\n",
    "        \n",
    "        # return only relevant information for each nearby venue\n",
    "        venues_list.append([(\n",
    "            name, \n",
    "            lat, \n",
    "            lng, \n",
    "            v['venue']['name'], \n",
    "            v['venue']['location']['lat'], \n",
    "            v['venue']['location']['lng'],  \n",
    "            v['venue']['categories'][0]['name']) for v in results])\n",
    "\n",
    "    nearby_venues = pd.DataFrame([item for venue_list in venues_list for item in venue_list])\n",
    "    nearby_venues.columns = ['Neighborhood', \n",
    "                  'Neighborhood Latitude', \n",
    "                  'Neighborhood Longitude', \n",
    "                  'Venue', \n",
    "                  'Venue Latitude', \n",
    "                  'Venue Longitude', \n",
    "                  'Venue Category']\n",
    "    \n",
    "    return(nearby_venues)\n"
   ]
  },
  {
   "cell_type": "code",
   "execution_count": 26,
   "metadata": {
    "tags": []
   },
   "outputs": [
    {
     "output_type": "stream",
     "name": "stdout",
     "text": "Downtown Toronto\nDowntown Toronto\nDowntown Toronto\nDowntown Toronto\nEast Toronto\nDowntown Toronto\nDowntown Toronto\nDowntown Toronto\nDowntown Toronto\nWest Toronto\nDowntown Toronto\nWest Toronto\nEast Toronto\nDowntown Toronto\nWest Toronto\nEast Toronto\nDowntown Toronto\nEast Toronto\nCentral Toronto\nCentral Toronto\nCentral Toronto\nCentral Toronto\nWest Toronto\nCentral Toronto\nCentral Toronto\nWest Toronto\nCentral Toronto\nDowntown Toronto\nWest Toronto\nCentral Toronto\nDowntown Toronto\nCentral Toronto\nDowntown Toronto\nDowntown Toronto\nDowntown Toronto\nDowntown Toronto\nDowntown Toronto\nDowntown Toronto\nEast Toronto\n"
    }
   ],
   "source": [
    "toronto_venues = getNearbyVenues(names=df_data['Borough'],\n",
    "                                   latitudes=df_data['Latitude'],\n",
    "                                   longitudes=df_data['Longitude']\n",
    "                                  )"
   ]
  },
  {
   "cell_type": "code",
   "execution_count": 50,
   "metadata": {
    "tags": []
   },
   "outputs": [
    {
     "output_type": "stream",
     "name": "stdout",
     "text": "(1627, 7)\n"
    },
    {
     "output_type": "execute_result",
     "data": {
      "text/plain": "       Neighborhood  Neighborhood Latitude  Neighborhood Longitude  \\\n0  Downtown Toronto               43.65426              -79.360636   \n1  Downtown Toronto               43.65426              -79.360636   \n2  Downtown Toronto               43.65426              -79.360636   \n3  Downtown Toronto               43.65426              -79.360636   \n4  Downtown Toronto               43.65426              -79.360636   \n\n                    Venue  Venue Latitude  Venue Longitude  \\\n0        Roselle Desserts       43.653447       -79.362017   \n1           Tandem Coffee       43.653559       -79.361809   \n2  Cooper Koo Family YMCA       43.653249       -79.358008   \n3     Body Blitz Spa East       43.654735       -79.359874   \n4          Impact Kitchen       43.656369       -79.356980   \n\n        Venue Category  \n0               Bakery  \n1          Coffee Shop  \n2  Distribution Center  \n3                  Spa  \n4           Restaurant  ",
      "text/html": "<div>\n<style scoped>\n    .dataframe tbody tr th:only-of-type {\n        vertical-align: middle;\n    }\n\n    .dataframe tbody tr th {\n        vertical-align: top;\n    }\n\n    .dataframe thead th {\n        text-align: right;\n    }\n</style>\n<table border=\"1\" class=\"dataframe\">\n  <thead>\n    <tr style=\"text-align: right;\">\n      <th></th>\n      <th>Neighborhood</th>\n      <th>Neighborhood Latitude</th>\n      <th>Neighborhood Longitude</th>\n      <th>Venue</th>\n      <th>Venue Latitude</th>\n      <th>Venue Longitude</th>\n      <th>Venue Category</th>\n    </tr>\n  </thead>\n  <tbody>\n    <tr>\n      <th>0</th>\n      <td>Downtown Toronto</td>\n      <td>43.65426</td>\n      <td>-79.360636</td>\n      <td>Roselle Desserts</td>\n      <td>43.653447</td>\n      <td>-79.362017</td>\n      <td>Bakery</td>\n    </tr>\n    <tr>\n      <th>1</th>\n      <td>Downtown Toronto</td>\n      <td>43.65426</td>\n      <td>-79.360636</td>\n      <td>Tandem Coffee</td>\n      <td>43.653559</td>\n      <td>-79.361809</td>\n      <td>Coffee Shop</td>\n    </tr>\n    <tr>\n      <th>2</th>\n      <td>Downtown Toronto</td>\n      <td>43.65426</td>\n      <td>-79.360636</td>\n      <td>Cooper Koo Family YMCA</td>\n      <td>43.653249</td>\n      <td>-79.358008</td>\n      <td>Distribution Center</td>\n    </tr>\n    <tr>\n      <th>3</th>\n      <td>Downtown Toronto</td>\n      <td>43.65426</td>\n      <td>-79.360636</td>\n      <td>Body Blitz Spa East</td>\n      <td>43.654735</td>\n      <td>-79.359874</td>\n      <td>Spa</td>\n    </tr>\n    <tr>\n      <th>4</th>\n      <td>Downtown Toronto</td>\n      <td>43.65426</td>\n      <td>-79.360636</td>\n      <td>Impact Kitchen</td>\n      <td>43.656369</td>\n      <td>-79.356980</td>\n      <td>Restaurant</td>\n    </tr>\n  </tbody>\n</table>\n</div>"
     },
     "metadata": {},
     "execution_count": 50
    }
   ],
   "source": [
    "print(toronto_venues.shape)\n",
    "toronto_venues.head()"
   ]
  },
  {
   "cell_type": "code",
   "execution_count": 51,
   "metadata": {
    "tags": []
   },
   "outputs": [
    {
     "output_type": "execute_result",
     "data": {
      "text/plain": "                  Neighborhood Latitude  Neighborhood Longitude  Venue  \\\nNeighborhood                                                             \nCentral Toronto                     107                     107    107   \nDowntown Toronto                   1238                    1238   1238   \nEast Toronto                        122                     122    122   \nWest Toronto                        160                     160    160   \n\n                  Venue Latitude  Venue Longitude  Venue Category  \nNeighborhood                                                       \nCentral Toronto              107              107             107  \nDowntown Toronto            1238             1238            1238  \nEast Toronto                 122              122             122  \nWest Toronto                 160              160             160  ",
      "text/html": "<div>\n<style scoped>\n    .dataframe tbody tr th:only-of-type {\n        vertical-align: middle;\n    }\n\n    .dataframe tbody tr th {\n        vertical-align: top;\n    }\n\n    .dataframe thead th {\n        text-align: right;\n    }\n</style>\n<table border=\"1\" class=\"dataframe\">\n  <thead>\n    <tr style=\"text-align: right;\">\n      <th></th>\n      <th>Neighborhood Latitude</th>\n      <th>Neighborhood Longitude</th>\n      <th>Venue</th>\n      <th>Venue Latitude</th>\n      <th>Venue Longitude</th>\n      <th>Venue Category</th>\n    </tr>\n    <tr>\n      <th>Neighborhood</th>\n      <th></th>\n      <th></th>\n      <th></th>\n      <th></th>\n      <th></th>\n      <th></th>\n    </tr>\n  </thead>\n  <tbody>\n    <tr>\n      <th>Central Toronto</th>\n      <td>107</td>\n      <td>107</td>\n      <td>107</td>\n      <td>107</td>\n      <td>107</td>\n      <td>107</td>\n    </tr>\n    <tr>\n      <th>Downtown Toronto</th>\n      <td>1238</td>\n      <td>1238</td>\n      <td>1238</td>\n      <td>1238</td>\n      <td>1238</td>\n      <td>1238</td>\n    </tr>\n    <tr>\n      <th>East Toronto</th>\n      <td>122</td>\n      <td>122</td>\n      <td>122</td>\n      <td>122</td>\n      <td>122</td>\n      <td>122</td>\n    </tr>\n    <tr>\n      <th>West Toronto</th>\n      <td>160</td>\n      <td>160</td>\n      <td>160</td>\n      <td>160</td>\n      <td>160</td>\n      <td>160</td>\n    </tr>\n  </tbody>\n</table>\n</div>"
     },
     "metadata": {},
     "execution_count": 51
    }
   ],
   "source": [
    "toronto_venues.groupby('Neighborhood').count()"
   ]
  },
  {
   "cell_type": "code",
   "execution_count": 52,
   "metadata": {
    "tags": []
   },
   "outputs": [
    {
     "output_type": "stream",
     "name": "stdout",
     "text": "There are 234 uniques categories.\n"
    }
   ],
   "source": [
    "print('There are {} uniques categories.'.format(len(toronto_venues['Venue Category'].unique())))"
   ]
  },
  {
   "cell_type": "code",
   "execution_count": 69,
   "metadata": {
    "tags": []
   },
   "outputs": [
    {
     "output_type": "stream",
     "name": "stdout",
     "text": "the dataframe has 1627 rows,234 columns, the \"Neighborhood\" column index number is 165.\n"
    }
   ],
   "source": [
    "# one hot encoding\n",
    "toronto_onehot = pd.get_dummies(toronto_venues[['Venue Category']], prefix=\"\", prefix_sep=\"\")\n",
    "\n",
    "\n",
    "# add neighborhood column back to dataframe\n",
    "toronto_onehot['Neighborhood'] = toronto_venues['Neighborhood']\n",
    "# get 'Neighborhood' cloumn index number \n",
    "number = toronto_onehot.columns.get_loc(\"Neighborhood\")\n",
    "print(f'the dataframe has {toronto_onehot.shape[0]} rows,{toronto_onehot.shape[1]} columns, the \"Neighborhood\" column index number is {number}.')\n"
   ]
  },
  {
   "cell_type": "code",
   "execution_count": 65,
   "metadata": {
    "tags": []
   },
   "outputs": [
    {
     "output_type": "execute_result",
     "data": {
      "text/plain": "   Afghan Restaurant  Airport  Airport Food Court  Airport Gate  \\\n0                  0        0                   0             0   \n1                  0        0                   0             0   \n2                  0        0                   0             0   \n3                  0        0                   0             0   \n4                  0        0                   0             0   \n\n   Airport Lounge  Airport Service  Airport Terminal  American Restaurant  \\\n0               0                0                 0                    0   \n1               0                0                 0                    0   \n2               0                0                 0                    0   \n3               0                0                 0                    0   \n4               0                0                 0                    0   \n\n   Antique Shop  Aquarium  ...  Theme Restaurant  Toy / Game Store  Trail  \\\n0             0         0  ...                 0                 0      0   \n1             0         0  ...                 0                 0      0   \n2             0         0  ...                 0                 0      0   \n3             0         0  ...                 0                 0      0   \n4             0         0  ...                 0                 0      0   \n\n   Train Station  Vegetarian / Vegan Restaurant  Video Game Store  \\\n0              0                              0                 0   \n1              0                              0                 0   \n2              0                              0                 0   \n3              0                              0                 0   \n4              0                              0                 0   \n\n   Vietnamese Restaurant  Wine Bar  Women's Store  Yoga Studio  \n0                      0         0              0            0  \n1                      0         0              0            0  \n2                      0         0              0            0  \n3                      0         0              0            0  \n4                      0         0              0            0  \n\n[5 rows x 234 columns]",
      "text/html": "<div>\n<style scoped>\n    .dataframe tbody tr th:only-of-type {\n        vertical-align: middle;\n    }\n\n    .dataframe tbody tr th {\n        vertical-align: top;\n    }\n\n    .dataframe thead th {\n        text-align: right;\n    }\n</style>\n<table border=\"1\" class=\"dataframe\">\n  <thead>\n    <tr style=\"text-align: right;\">\n      <th></th>\n      <th>Afghan Restaurant</th>\n      <th>Airport</th>\n      <th>Airport Food Court</th>\n      <th>Airport Gate</th>\n      <th>Airport Lounge</th>\n      <th>Airport Service</th>\n      <th>Airport Terminal</th>\n      <th>American Restaurant</th>\n      <th>Antique Shop</th>\n      <th>Aquarium</th>\n      <th>...</th>\n      <th>Theme Restaurant</th>\n      <th>Toy / Game Store</th>\n      <th>Trail</th>\n      <th>Train Station</th>\n      <th>Vegetarian / Vegan Restaurant</th>\n      <th>Video Game Store</th>\n      <th>Vietnamese Restaurant</th>\n      <th>Wine Bar</th>\n      <th>Women's Store</th>\n      <th>Yoga Studio</th>\n    </tr>\n  </thead>\n  <tbody>\n    <tr>\n      <th>0</th>\n      <td>0</td>\n      <td>0</td>\n      <td>0</td>\n      <td>0</td>\n      <td>0</td>\n      <td>0</td>\n      <td>0</td>\n      <td>0</td>\n      <td>0</td>\n      <td>0</td>\n      <td>...</td>\n      <td>0</td>\n      <td>0</td>\n      <td>0</td>\n      <td>0</td>\n      <td>0</td>\n      <td>0</td>\n      <td>0</td>\n      <td>0</td>\n      <td>0</td>\n      <td>0</td>\n    </tr>\n    <tr>\n      <th>1</th>\n      <td>0</td>\n      <td>0</td>\n      <td>0</td>\n      <td>0</td>\n      <td>0</td>\n      <td>0</td>\n      <td>0</td>\n      <td>0</td>\n      <td>0</td>\n      <td>0</td>\n      <td>...</td>\n      <td>0</td>\n      <td>0</td>\n      <td>0</td>\n      <td>0</td>\n      <td>0</td>\n      <td>0</td>\n      <td>0</td>\n      <td>0</td>\n      <td>0</td>\n      <td>0</td>\n    </tr>\n    <tr>\n      <th>2</th>\n      <td>0</td>\n      <td>0</td>\n      <td>0</td>\n      <td>0</td>\n      <td>0</td>\n      <td>0</td>\n      <td>0</td>\n      <td>0</td>\n      <td>0</td>\n      <td>0</td>\n      <td>...</td>\n      <td>0</td>\n      <td>0</td>\n      <td>0</td>\n      <td>0</td>\n      <td>0</td>\n      <td>0</td>\n      <td>0</td>\n      <td>0</td>\n      <td>0</td>\n      <td>0</td>\n    </tr>\n    <tr>\n      <th>3</th>\n      <td>0</td>\n      <td>0</td>\n      <td>0</td>\n      <td>0</td>\n      <td>0</td>\n      <td>0</td>\n      <td>0</td>\n      <td>0</td>\n      <td>0</td>\n      <td>0</td>\n      <td>...</td>\n      <td>0</td>\n      <td>0</td>\n      <td>0</td>\n      <td>0</td>\n      <td>0</td>\n      <td>0</td>\n      <td>0</td>\n      <td>0</td>\n      <td>0</td>\n      <td>0</td>\n    </tr>\n    <tr>\n      <th>4</th>\n      <td>0</td>\n      <td>0</td>\n      <td>0</td>\n      <td>0</td>\n      <td>0</td>\n      <td>0</td>\n      <td>0</td>\n      <td>0</td>\n      <td>0</td>\n      <td>0</td>\n      <td>...</td>\n      <td>0</td>\n      <td>0</td>\n      <td>0</td>\n      <td>0</td>\n      <td>0</td>\n      <td>0</td>\n      <td>0</td>\n      <td>0</td>\n      <td>0</td>\n      <td>0</td>\n    </tr>\n  </tbody>\n</table>\n<p>5 rows × 234 columns</p>\n</div>"
     },
     "metadata": {},
     "execution_count": 65
    }
   ],
   "source": [
    "toronto_onehot.head()"
   ]
  },
  {
   "cell_type": "code",
   "execution_count": 70,
   "metadata": {},
   "outputs": [
    {
     "output_type": "execute_result",
     "data": {
      "text/plain": "       Neighborhood  Afghan Restaurant   Airport  Airport Food Court  \\\n0   Central Toronto           0.000000  0.000000            0.000000   \n1  Downtown Toronto           0.000808  0.000808            0.000808   \n2      East Toronto           0.000000  0.000000            0.000000   \n3      West Toronto           0.000000  0.000000            0.000000   \n\n   Airport Gate  Airport Lounge  Airport Service  Airport Terminal  \\\n0      0.000000        0.000000         0.000000          0.000000   \n1      0.000808        0.000808         0.001616          0.001616   \n2      0.000000        0.000000         0.000000          0.000000   \n3      0.000000        0.000000         0.000000          0.000000   \n\n   American Restaurant  Antique Shop  ...  Theme Restaurant  Toy / Game Store  \\\n0             0.009346      0.000000  ...          0.000000          0.009346   \n1             0.013732      0.001616  ...          0.000808          0.001616   \n2             0.024590      0.000000  ...          0.000000          0.000000   \n3             0.000000      0.006250  ...          0.000000          0.000000   \n\n      Trail  Train Station  Vegetarian / Vegan Restaurant  Video Game Store  \\\n0  0.009346       0.000000                       0.009346          0.000000   \n1  0.000808       0.002423                       0.012116          0.000808   \n2  0.016393       0.000000                       0.000000          0.000000   \n3  0.000000       0.000000                       0.012500          0.000000   \n\n   Vietnamese Restaurant  Wine Bar  Women's Store  Yoga Studio  \n0               0.009346  0.000000       0.000000     0.009346  \n1               0.003231  0.006462       0.000808     0.005654  \n2               0.000000  0.008197       0.000000     0.024590  \n3               0.012500  0.006250       0.000000     0.018750  \n\n[4 rows x 234 columns]",
      "text/html": "<div>\n<style scoped>\n    .dataframe tbody tr th:only-of-type {\n        vertical-align: middle;\n    }\n\n    .dataframe tbody tr th {\n        vertical-align: top;\n    }\n\n    .dataframe thead th {\n        text-align: right;\n    }\n</style>\n<table border=\"1\" class=\"dataframe\">\n  <thead>\n    <tr style=\"text-align: right;\">\n      <th></th>\n      <th>Neighborhood</th>\n      <th>Afghan Restaurant</th>\n      <th>Airport</th>\n      <th>Airport Food Court</th>\n      <th>Airport Gate</th>\n      <th>Airport Lounge</th>\n      <th>Airport Service</th>\n      <th>Airport Terminal</th>\n      <th>American Restaurant</th>\n      <th>Antique Shop</th>\n      <th>...</th>\n      <th>Theme Restaurant</th>\n      <th>Toy / Game Store</th>\n      <th>Trail</th>\n      <th>Train Station</th>\n      <th>Vegetarian / Vegan Restaurant</th>\n      <th>Video Game Store</th>\n      <th>Vietnamese Restaurant</th>\n      <th>Wine Bar</th>\n      <th>Women's Store</th>\n      <th>Yoga Studio</th>\n    </tr>\n  </thead>\n  <tbody>\n    <tr>\n      <th>0</th>\n      <td>Central Toronto</td>\n      <td>0.000000</td>\n      <td>0.000000</td>\n      <td>0.000000</td>\n      <td>0.000000</td>\n      <td>0.000000</td>\n      <td>0.000000</td>\n      <td>0.000000</td>\n      <td>0.009346</td>\n      <td>0.000000</td>\n      <td>...</td>\n      <td>0.000000</td>\n      <td>0.009346</td>\n      <td>0.009346</td>\n      <td>0.000000</td>\n      <td>0.009346</td>\n      <td>0.000000</td>\n      <td>0.009346</td>\n      <td>0.000000</td>\n      <td>0.000000</td>\n      <td>0.009346</td>\n    </tr>\n    <tr>\n      <th>1</th>\n      <td>Downtown Toronto</td>\n      <td>0.000808</td>\n      <td>0.000808</td>\n      <td>0.000808</td>\n      <td>0.000808</td>\n      <td>0.000808</td>\n      <td>0.001616</td>\n      <td>0.001616</td>\n      <td>0.013732</td>\n      <td>0.001616</td>\n      <td>...</td>\n      <td>0.000808</td>\n      <td>0.001616</td>\n      <td>0.000808</td>\n      <td>0.002423</td>\n      <td>0.012116</td>\n      <td>0.000808</td>\n      <td>0.003231</td>\n      <td>0.006462</td>\n      <td>0.000808</td>\n      <td>0.005654</td>\n    </tr>\n    <tr>\n      <th>2</th>\n      <td>East Toronto</td>\n      <td>0.000000</td>\n      <td>0.000000</td>\n      <td>0.000000</td>\n      <td>0.000000</td>\n      <td>0.000000</td>\n      <td>0.000000</td>\n      <td>0.000000</td>\n      <td>0.024590</td>\n      <td>0.000000</td>\n      <td>...</td>\n      <td>0.000000</td>\n      <td>0.000000</td>\n      <td>0.016393</td>\n      <td>0.000000</td>\n      <td>0.000000</td>\n      <td>0.000000</td>\n      <td>0.000000</td>\n      <td>0.008197</td>\n      <td>0.000000</td>\n      <td>0.024590</td>\n    </tr>\n    <tr>\n      <th>3</th>\n      <td>West Toronto</td>\n      <td>0.000000</td>\n      <td>0.000000</td>\n      <td>0.000000</td>\n      <td>0.000000</td>\n      <td>0.000000</td>\n      <td>0.000000</td>\n      <td>0.000000</td>\n      <td>0.000000</td>\n      <td>0.006250</td>\n      <td>...</td>\n      <td>0.000000</td>\n      <td>0.000000</td>\n      <td>0.000000</td>\n      <td>0.000000</td>\n      <td>0.012500</td>\n      <td>0.000000</td>\n      <td>0.012500</td>\n      <td>0.006250</td>\n      <td>0.000000</td>\n      <td>0.018750</td>\n    </tr>\n  </tbody>\n</table>\n<p>4 rows × 234 columns</p>\n</div>"
     },
     "metadata": {},
     "execution_count": 70
    }
   ],
   "source": [
    "toronto_grouped = toronto_onehot.groupby('Neighborhood').mean().reset_index()\n",
    "toronto_grouped"
   ]
  },
  {
   "cell_type": "code",
   "execution_count": 72,
   "metadata": {
    "tags": []
   },
   "outputs": [],
   "source": [
    "# write a function to sort the venues in descending order.\n",
    "def return_most_common_venues(row, num_top_venues):\n",
    "    row_categories = row.iloc[1:]\n",
    "    row_categories_sorted = row_categories.sort_values(ascending=False)\n",
    "    \n",
    "    return row_categories_sorted.index.values[0:num_top_venues]"
   ]
  },
  {
   "cell_type": "code",
   "execution_count": 94,
   "metadata": {},
   "outputs": [
    {
     "output_type": "execute_result",
     "data": {
      "text/plain": "       Neighborhood 1st Most Common Venue 2nd Most Common Venue  \\\n0   Central Toronto           Coffee Shop        Sandwich Place   \n1  Downtown Toronto           Coffee Shop                  Café   \n2      East Toronto      Greek Restaurant           Coffee Shop   \n3      West Toronto                  Café                   Bar   \n\n  3rd Most Common Venue 4th Most Common Venue 5th Most Common Venue  \\\n0                  Park                  Café           Pizza Place   \n1            Restaurant                 Hotel   Japanese Restaurant   \n2    Italian Restaurant                  Café               Brewery   \n3           Coffee Shop            Restaurant                Bakery   \n\n  6th Most Common Venue 7th Most Common Venue 8th Most Common Venue  \\\n0            Restaurant      Sushi Restaurant                   Pub   \n1    Italian Restaurant                  Park                   Gym   \n2            Restaurant                  Park        Ice Cream Shop   \n3    Italian Restaurant         Grocery Store        Breakfast Spot   \n\n  9th Most Common Venue 10th Most Common Venue  \n0                   Gym           Dessert Shop  \n1                Bakery     Seafood Restaurant  \n2           Yoga Studio     Light Rail Station  \n3           Pizza Place       Asian Restaurant  ",
      "text/html": "<div>\n<style scoped>\n    .dataframe tbody tr th:only-of-type {\n        vertical-align: middle;\n    }\n\n    .dataframe tbody tr th {\n        vertical-align: top;\n    }\n\n    .dataframe thead th {\n        text-align: right;\n    }\n</style>\n<table border=\"1\" class=\"dataframe\">\n  <thead>\n    <tr style=\"text-align: right;\">\n      <th></th>\n      <th>Neighborhood</th>\n      <th>1st Most Common Venue</th>\n      <th>2nd Most Common Venue</th>\n      <th>3rd Most Common Venue</th>\n      <th>4th Most Common Venue</th>\n      <th>5th Most Common Venue</th>\n      <th>6th Most Common Venue</th>\n      <th>7th Most Common Venue</th>\n      <th>8th Most Common Venue</th>\n      <th>9th Most Common Venue</th>\n      <th>10th Most Common Venue</th>\n    </tr>\n  </thead>\n  <tbody>\n    <tr>\n      <th>0</th>\n      <td>Central Toronto</td>\n      <td>Coffee Shop</td>\n      <td>Sandwich Place</td>\n      <td>Park</td>\n      <td>Café</td>\n      <td>Pizza Place</td>\n      <td>Restaurant</td>\n      <td>Sushi Restaurant</td>\n      <td>Pub</td>\n      <td>Gym</td>\n      <td>Dessert Shop</td>\n    </tr>\n    <tr>\n      <th>1</th>\n      <td>Downtown Toronto</td>\n      <td>Coffee Shop</td>\n      <td>Café</td>\n      <td>Restaurant</td>\n      <td>Hotel</td>\n      <td>Japanese Restaurant</td>\n      <td>Italian Restaurant</td>\n      <td>Park</td>\n      <td>Gym</td>\n      <td>Bakery</td>\n      <td>Seafood Restaurant</td>\n    </tr>\n    <tr>\n      <th>2</th>\n      <td>East Toronto</td>\n      <td>Greek Restaurant</td>\n      <td>Coffee Shop</td>\n      <td>Italian Restaurant</td>\n      <td>Café</td>\n      <td>Brewery</td>\n      <td>Restaurant</td>\n      <td>Park</td>\n      <td>Ice Cream Shop</td>\n      <td>Yoga Studio</td>\n      <td>Light Rail Station</td>\n    </tr>\n    <tr>\n      <th>3</th>\n      <td>West Toronto</td>\n      <td>Café</td>\n      <td>Bar</td>\n      <td>Coffee Shop</td>\n      <td>Restaurant</td>\n      <td>Bakery</td>\n      <td>Italian Restaurant</td>\n      <td>Grocery Store</td>\n      <td>Breakfast Spot</td>\n      <td>Pizza Place</td>\n      <td>Asian Restaurant</td>\n    </tr>\n  </tbody>\n</table>\n</div>"
     },
     "metadata": {},
     "execution_count": 94
    }
   ],
   "source": [
    "# create the new dataframe and display the top 10 venues for each neighborhood.\n",
    "num_top_venues = 10\n",
    "\n",
    "indicators = ['st', 'nd', 'rd']\n",
    "\n",
    "# create columns according to number of top venues\n",
    "columns = ['Neighborhood']\n",
    "for ind in np.arange(num_top_venues):\n",
    "    try:\n",
    "        columns.append('{}{} Most Common Venue'.format(ind+1, indicators[ind]))\n",
    "    except:\n",
    "        columns.append('{}th Most Common Venue'.format(ind+1))\n",
    "\n",
    "# create a new dataframe\n",
    "neighborhoods_venues_sorted = pd.DataFrame(columns=columns)\n",
    "neighborhoods_venues_sorted['Neighborhood'] = toronto_grouped['Neighborhood']\n",
    "\n",
    "for ind in np.arange(toronto_grouped.shape[0]):\n",
    "    neighborhoods_venues_sorted.iloc[ind, 1:] = return_most_common_venues(toronto_grouped.iloc[ind, :], num_top_venues)\n",
    "\n",
    "neighborhoods_venues_sorted.head()\n"
   ]
  },
  {
   "cell_type": "markdown",
   "metadata": {},
   "source": [
    "### Cluster the neighborhood"
   ]
  },
  {
   "cell_type": "code",
   "execution_count": 95,
   "metadata": {},
   "outputs": [
    {
     "output_type": "execute_result",
     "data": {
      "text/plain": "array([0, 3, 1, 2])"
     },
     "metadata": {},
     "execution_count": 95
    }
   ],
   "source": [
    "# set number of clusters\n",
    "kclusters = 4\n",
    "\n",
    "toronto_grouped_clustering = toronto_grouped.drop('Neighborhood', 1)\n",
    "\n",
    "# run k-means clustering\n",
    "kmeans = KMeans(n_clusters=kclusters, random_state=0).fit(toronto_grouped_clustering)\n",
    "\n",
    "# check cluster labels generated for each row in the dataframe\n",
    "kmeans.labels_[:] "
   ]
  },
  {
   "cell_type": "code",
   "execution_count": 96,
   "metadata": {},
   "outputs": [
    {
     "output_type": "execute_result",
     "data": {
      "text/plain": "  Postal Code           Borough                                Neighbourhood  \\\n0         M5A  Downtown Toronto                    Regent Park, Harbourfront   \n1         M7A  Downtown Toronto  Queen's Park, Ontario Provincial Government   \n2         M5B  Downtown Toronto                     Garden District, Ryerson   \n3         M5C  Downtown Toronto                               St. James Town   \n4         M4E      East Toronto                                  The Beaches   \n\n    Latitude  Longitude  Cluster Labels 1st Most Common Venue  \\\n0  43.654260 -79.360636               3           Coffee Shop   \n1  43.662301 -79.389494               3           Coffee Shop   \n2  43.657162 -79.378937               3           Coffee Shop   \n3  43.651494 -79.375418               3           Coffee Shop   \n4  43.676357 -79.293031               1      Greek Restaurant   \n\n  2nd Most Common Venue 3rd Most Common Venue 4th Most Common Venue  \\\n0                  Café            Restaurant                 Hotel   \n1                  Café            Restaurant                 Hotel   \n2                  Café            Restaurant                 Hotel   \n3                  Café            Restaurant                 Hotel   \n4           Coffee Shop    Italian Restaurant                  Café   \n\n  5th Most Common Venue 6th Most Common Venue 7th Most Common Venue  \\\n0   Japanese Restaurant    Italian Restaurant                  Park   \n1   Japanese Restaurant    Italian Restaurant                  Park   \n2   Japanese Restaurant    Italian Restaurant                  Park   \n3   Japanese Restaurant    Italian Restaurant                  Park   \n4               Brewery            Restaurant                  Park   \n\n  8th Most Common Venue 9th Most Common Venue 10th Most Common Venue  \n0                   Gym                Bakery     Seafood Restaurant  \n1                   Gym                Bakery     Seafood Restaurant  \n2                   Gym                Bakery     Seafood Restaurant  \n3                   Gym                Bakery     Seafood Restaurant  \n4        Ice Cream Shop           Yoga Studio     Light Rail Station  ",
      "text/html": "<div>\n<style scoped>\n    .dataframe tbody tr th:only-of-type {\n        vertical-align: middle;\n    }\n\n    .dataframe tbody tr th {\n        vertical-align: top;\n    }\n\n    .dataframe thead th {\n        text-align: right;\n    }\n</style>\n<table border=\"1\" class=\"dataframe\">\n  <thead>\n    <tr style=\"text-align: right;\">\n      <th></th>\n      <th>Postal Code</th>\n      <th>Borough</th>\n      <th>Neighbourhood</th>\n      <th>Latitude</th>\n      <th>Longitude</th>\n      <th>Cluster Labels</th>\n      <th>1st Most Common Venue</th>\n      <th>2nd Most Common Venue</th>\n      <th>3rd Most Common Venue</th>\n      <th>4th Most Common Venue</th>\n      <th>5th Most Common Venue</th>\n      <th>6th Most Common Venue</th>\n      <th>7th Most Common Venue</th>\n      <th>8th Most Common Venue</th>\n      <th>9th Most Common Venue</th>\n      <th>10th Most Common Venue</th>\n    </tr>\n  </thead>\n  <tbody>\n    <tr>\n      <th>0</th>\n      <td>M5A</td>\n      <td>Downtown Toronto</td>\n      <td>Regent Park, Harbourfront</td>\n      <td>43.654260</td>\n      <td>-79.360636</td>\n      <td>3</td>\n      <td>Coffee Shop</td>\n      <td>Café</td>\n      <td>Restaurant</td>\n      <td>Hotel</td>\n      <td>Japanese Restaurant</td>\n      <td>Italian Restaurant</td>\n      <td>Park</td>\n      <td>Gym</td>\n      <td>Bakery</td>\n      <td>Seafood Restaurant</td>\n    </tr>\n    <tr>\n      <th>1</th>\n      <td>M7A</td>\n      <td>Downtown Toronto</td>\n      <td>Queen's Park, Ontario Provincial Government</td>\n      <td>43.662301</td>\n      <td>-79.389494</td>\n      <td>3</td>\n      <td>Coffee Shop</td>\n      <td>Café</td>\n      <td>Restaurant</td>\n      <td>Hotel</td>\n      <td>Japanese Restaurant</td>\n      <td>Italian Restaurant</td>\n      <td>Park</td>\n      <td>Gym</td>\n      <td>Bakery</td>\n      <td>Seafood Restaurant</td>\n    </tr>\n    <tr>\n      <th>2</th>\n      <td>M5B</td>\n      <td>Downtown Toronto</td>\n      <td>Garden District, Ryerson</td>\n      <td>43.657162</td>\n      <td>-79.378937</td>\n      <td>3</td>\n      <td>Coffee Shop</td>\n      <td>Café</td>\n      <td>Restaurant</td>\n      <td>Hotel</td>\n      <td>Japanese Restaurant</td>\n      <td>Italian Restaurant</td>\n      <td>Park</td>\n      <td>Gym</td>\n      <td>Bakery</td>\n      <td>Seafood Restaurant</td>\n    </tr>\n    <tr>\n      <th>3</th>\n      <td>M5C</td>\n      <td>Downtown Toronto</td>\n      <td>St. James Town</td>\n      <td>43.651494</td>\n      <td>-79.375418</td>\n      <td>3</td>\n      <td>Coffee Shop</td>\n      <td>Café</td>\n      <td>Restaurant</td>\n      <td>Hotel</td>\n      <td>Japanese Restaurant</td>\n      <td>Italian Restaurant</td>\n      <td>Park</td>\n      <td>Gym</td>\n      <td>Bakery</td>\n      <td>Seafood Restaurant</td>\n    </tr>\n    <tr>\n      <th>4</th>\n      <td>M4E</td>\n      <td>East Toronto</td>\n      <td>The Beaches</td>\n      <td>43.676357</td>\n      <td>-79.293031</td>\n      <td>1</td>\n      <td>Greek Restaurant</td>\n      <td>Coffee Shop</td>\n      <td>Italian Restaurant</td>\n      <td>Café</td>\n      <td>Brewery</td>\n      <td>Restaurant</td>\n      <td>Park</td>\n      <td>Ice Cream Shop</td>\n      <td>Yoga Studio</td>\n      <td>Light Rail Station</td>\n    </tr>\n  </tbody>\n</table>\n</div>"
     },
     "metadata": {},
     "execution_count": 96
    }
   ],
   "source": [
    "# add clustering labels\n",
    "neighborhoods_venues_sorted.insert(0, 'Cluster Labels', kmeans.labels_)\n",
    "# neighborhoods_venues_sorted\n",
    "\n",
    "toronto_merged = df_data\n",
    "\n",
    "# merge toronto_grouped with toronto_data to add latitude/longitude for each neighborhood\n",
    "toronto_merged = toronto_merged.join(neighborhoods_venues_sorted.set_index('Neighborhood'), on='Borough')\n",
    "\n",
    "toronto_merged.head() # check the last columns!"
   ]
  },
  {
   "cell_type": "code",
   "execution_count": 98,
   "metadata": {},
   "outputs": [
    {
     "output_type": "execute_result",
     "data": {
      "text/plain": "<folium.folium.Map at 0x1ac58ef5d08>",
      "text/html": "<div style=\"width:100%;\"><div style=\"position:relative;width:100%;height:0;padding-bottom:60%;\"><span style=\"color:#565656\">Make this Notebook Trusted to load map: File -> Trust Notebook</span><iframe src=\"about:blank\" style=\"position:absolute;width:100%;height:100%;left:0;top:0;border:none !important;\" data-html=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 onload=\"this.contentDocument.open();this.contentDocument.write(atob(this.getAttribute('data-html')));this.contentDocument.close();\" allowfullscreen webkitallowfullscreen mozallowfullscreen></iframe></div></div>"
     },
     "metadata": {},
     "execution_count": 98
    }
   ],
   "source": [
    "# create map\n",
    "geolocator = Nominatim(user_agent=\"ny_explorer\")\n",
    "location = geolocator.geocode('Toronto On')\n",
    "latitude = location.latitude\n",
    "longitude = location.longitude\n",
    "\n",
    "map_clusters = folium.Map(location=[latitude, longitude], zoom_start=11)\n",
    "\n",
    "# set color scheme for the clusters\n",
    "x = np.arange(kclusters)\n",
    "ys = [i + x + (i*x)**2 for i in range(kclusters)]\n",
    "colors_array = cm.rainbow(np.linspace(0, 1, len(ys)))\n",
    "rainbow = [colors.rgb2hex(i) for i in colors_array]\n",
    "\n",
    "# add markers to the map\n",
    "markers_colors = []\n",
    "for lat, lon, poi, cluster in zip(toronto_merged['Latitude'], toronto_merged['Longitude'], toronto_merged['Neighbourhood'], toronto_merged['Cluster Labels']):\n",
    "    label = folium.Popup(str(poi) + ' Cluster ' + str(cluster), parse_html=True)\n",
    "    folium.CircleMarker(\n",
    "        [lat, lon],\n",
    "        radius=5,\n",
    "        popup=label,\n",
    "        color=rainbow[cluster-1],\n",
    "        fill=True,\n",
    "        fill_color=rainbow[cluster-1],\n",
    "        fill_opacity=0.7).add_to(map_clusters)\n",
    "       \n",
    "map_clusters"
   ]
  }
 ]
}